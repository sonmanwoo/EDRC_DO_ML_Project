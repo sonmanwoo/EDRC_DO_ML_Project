{
  "nbformat": 4,
  "nbformat_minor": 0,
  "metadata": {
    "hide_input": false,
    "kernelspec": {
      "display_name": "Python 3",
      "language": "python",
      "name": "python3"
    },
    "language_info": {
      "codemirror_mode": {
        "name": "ipython",
        "version": 3
      },
      "file_extension": ".py",
      "mimetype": "text/x-python",
      "name": "python",
      "nbconvert_exporter": "python",
      "pygments_lexer": "ipython3",
      "version": "3.7.6"
    },
    "varInspector": {
      "cols": {
        "lenName": 16,
        "lenType": 16,
        "lenVar": 40
      },
      "kernels_config": {
        "python": {
          "delete_cmd_postfix": "",
          "delete_cmd_prefix": "del ",
          "library": "var_list.py",
          "varRefreshCmd": "print(var_dic_list())"
        },
        "r": {
          "delete_cmd_postfix": ") ",
          "delete_cmd_prefix": "rm(",
          "library": "var_list.r",
          "varRefreshCmd": "cat(var_dic_list()) "
        }
      },
      "types_to_exclude": [
        "module",
        "function",
        "builtin_function_or_method",
        "instance",
        "_Feature"
      ],
      "window_display": false
    },
    "colab": {
      "name": "02Train_PID.ipynb",
      "provenance": [],
      "toc_visible": true
    },
    "accelerator": "GPU",
    "widgets": {
      "application/vnd.jupyter.widget-state+json": {
        "43aaf871055143bf85ae2b85cfd15621": {
          "model_module": "@jupyter-widgets/controls",
          "model_name": "HBoxModel",
          "state": {
            "_view_name": "HBoxView",
            "_dom_classes": [],
            "_model_name": "HBoxModel",
            "_view_module": "@jupyter-widgets/controls",
            "_model_module_version": "1.5.0",
            "_view_count": null,
            "_view_module_version": "1.5.0",
            "box_style": "",
            "layout": "IPY_MODEL_2da2a9e3272d4b4488f5be4dad5607de",
            "_model_module": "@jupyter-widgets/controls",
            "children": [
              "IPY_MODEL_1f6a23bc076b4a6b8a316ae91071c5f0",
              "IPY_MODEL_62fe1fe8893047a997c64b9eb53f699b"
            ]
          }
        },
        "2da2a9e3272d4b4488f5be4dad5607de": {
          "model_module": "@jupyter-widgets/base",
          "model_name": "LayoutModel",
          "state": {
            "_view_name": "LayoutView",
            "grid_template_rows": null,
            "right": null,
            "justify_content": null,
            "_view_module": "@jupyter-widgets/base",
            "overflow": null,
            "_model_module_version": "1.2.0",
            "_view_count": null,
            "flex_flow": null,
            "width": null,
            "min_width": null,
            "border": null,
            "align_items": null,
            "bottom": null,
            "_model_module": "@jupyter-widgets/base",
            "top": null,
            "grid_column": null,
            "overflow_y": null,
            "overflow_x": null,
            "grid_auto_flow": null,
            "grid_area": null,
            "grid_template_columns": null,
            "flex": null,
            "_model_name": "LayoutModel",
            "justify_items": null,
            "grid_row": null,
            "max_height": null,
            "align_content": null,
            "visibility": null,
            "align_self": null,
            "height": null,
            "min_height": null,
            "padding": null,
            "grid_auto_rows": null,
            "grid_gap": null,
            "max_width": null,
            "order": null,
            "_view_module_version": "1.2.0",
            "grid_template_areas": null,
            "object_position": null,
            "object_fit": null,
            "grid_auto_columns": null,
            "margin": null,
            "display": null,
            "left": null
          }
        },
        "1f6a23bc076b4a6b8a316ae91071c5f0": {
          "model_module": "@jupyter-widgets/controls",
          "model_name": "FloatProgressModel",
          "state": {
            "_view_name": "ProgressView",
            "style": "IPY_MODEL_546092b4fc8043e59c1c00368179ba19",
            "_dom_classes": [],
            "description": " 72%",
            "_model_name": "FloatProgressModel",
            "bar_style": "danger",
            "max": 350,
            "_view_module": "@jupyter-widgets/controls",
            "_model_module_version": "1.5.0",
            "value": 252,
            "_view_count": null,
            "_view_module_version": "1.5.0",
            "orientation": "horizontal",
            "min": 0,
            "description_tooltip": null,
            "_model_module": "@jupyter-widgets/controls",
            "layout": "IPY_MODEL_2148b13aefdd47ccb3513822b975c42f"
          }
        },
        "62fe1fe8893047a997c64b9eb53f699b": {
          "model_module": "@jupyter-widgets/controls",
          "model_name": "HTMLModel",
          "state": {
            "_view_name": "HTMLView",
            "style": "IPY_MODEL_adc800f66cf444d89bf5f691a270186b",
            "_dom_classes": [],
            "description": "",
            "_model_name": "HTMLModel",
            "placeholder": "​",
            "_view_module": "@jupyter-widgets/controls",
            "_model_module_version": "1.5.0",
            "value": " 252/350 [01:26&lt;00:33,  2.92epoch/s, loss=0.00184, val_loss=0.00234]",
            "_view_count": null,
            "_view_module_version": "1.5.0",
            "description_tooltip": null,
            "_model_module": "@jupyter-widgets/controls",
            "layout": "IPY_MODEL_af8ccf0a1bf64f1ab37547bd977c7afd"
          }
        },
        "546092b4fc8043e59c1c00368179ba19": {
          "model_module": "@jupyter-widgets/controls",
          "model_name": "ProgressStyleModel",
          "state": {
            "_view_name": "StyleView",
            "_model_name": "ProgressStyleModel",
            "description_width": "initial",
            "_view_module": "@jupyter-widgets/base",
            "_model_module_version": "1.5.0",
            "_view_count": null,
            "_view_module_version": "1.2.0",
            "bar_color": null,
            "_model_module": "@jupyter-widgets/controls"
          }
        },
        "2148b13aefdd47ccb3513822b975c42f": {
          "model_module": "@jupyter-widgets/base",
          "model_name": "LayoutModel",
          "state": {
            "_view_name": "LayoutView",
            "grid_template_rows": null,
            "right": null,
            "justify_content": null,
            "_view_module": "@jupyter-widgets/base",
            "overflow": null,
            "_model_module_version": "1.2.0",
            "_view_count": null,
            "flex_flow": null,
            "width": null,
            "min_width": null,
            "border": null,
            "align_items": null,
            "bottom": null,
            "_model_module": "@jupyter-widgets/base",
            "top": null,
            "grid_column": null,
            "overflow_y": null,
            "overflow_x": null,
            "grid_auto_flow": null,
            "grid_area": null,
            "grid_template_columns": null,
            "flex": null,
            "_model_name": "LayoutModel",
            "justify_items": null,
            "grid_row": null,
            "max_height": null,
            "align_content": null,
            "visibility": null,
            "align_self": null,
            "height": null,
            "min_height": null,
            "padding": null,
            "grid_auto_rows": null,
            "grid_gap": null,
            "max_width": null,
            "order": null,
            "_view_module_version": "1.2.0",
            "grid_template_areas": null,
            "object_position": null,
            "object_fit": null,
            "grid_auto_columns": null,
            "margin": null,
            "display": null,
            "left": null
          }
        },
        "adc800f66cf444d89bf5f691a270186b": {
          "model_module": "@jupyter-widgets/controls",
          "model_name": "DescriptionStyleModel",
          "state": {
            "_view_name": "StyleView",
            "_model_name": "DescriptionStyleModel",
            "description_width": "",
            "_view_module": "@jupyter-widgets/base",
            "_model_module_version": "1.5.0",
            "_view_count": null,
            "_view_module_version": "1.2.0",
            "_model_module": "@jupyter-widgets/controls"
          }
        },
        "af8ccf0a1bf64f1ab37547bd977c7afd": {
          "model_module": "@jupyter-widgets/base",
          "model_name": "LayoutModel",
          "state": {
            "_view_name": "LayoutView",
            "grid_template_rows": null,
            "right": null,
            "justify_content": null,
            "_view_module": "@jupyter-widgets/base",
            "overflow": null,
            "_model_module_version": "1.2.0",
            "_view_count": null,
            "flex_flow": null,
            "width": null,
            "min_width": null,
            "border": null,
            "align_items": null,
            "bottom": null,
            "_model_module": "@jupyter-widgets/base",
            "top": null,
            "grid_column": null,
            "overflow_y": null,
            "overflow_x": null,
            "grid_auto_flow": null,
            "grid_area": null,
            "grid_template_columns": null,
            "flex": null,
            "_model_name": "LayoutModel",
            "justify_items": null,
            "grid_row": null,
            "max_height": null,
            "align_content": null,
            "visibility": null,
            "align_self": null,
            "height": null,
            "min_height": null,
            "padding": null,
            "grid_auto_rows": null,
            "grid_gap": null,
            "max_width": null,
            "order": null,
            "_view_module_version": "1.2.0",
            "grid_template_areas": null,
            "object_position": null,
            "object_fit": null,
            "grid_auto_columns": null,
            "margin": null,
            "display": null,
            "left": null
          }
        },
        "eab7343812db4d61a712df14f662f512": {
          "model_module": "@jupyter-widgets/controls",
          "model_name": "HBoxModel",
          "state": {
            "_view_name": "HBoxView",
            "_dom_classes": [],
            "_model_name": "HBoxModel",
            "_view_module": "@jupyter-widgets/controls",
            "_model_module_version": "1.5.0",
            "_view_count": null,
            "_view_module_version": "1.5.0",
            "box_style": "",
            "layout": "IPY_MODEL_d802cba443fe447f951ab5f2fee364f3",
            "_model_module": "@jupyter-widgets/controls",
            "children": [
              "IPY_MODEL_30f1e86d200349b498685dc59815a01d",
              "IPY_MODEL_578f658ab0124a3fbe7acab9376fb90e"
            ]
          }
        },
        "d802cba443fe447f951ab5f2fee364f3": {
          "model_module": "@jupyter-widgets/base",
          "model_name": "LayoutModel",
          "state": {
            "_view_name": "LayoutView",
            "grid_template_rows": null,
            "right": null,
            "justify_content": null,
            "_view_module": "@jupyter-widgets/base",
            "overflow": null,
            "_model_module_version": "1.2.0",
            "_view_count": null,
            "flex_flow": null,
            "width": null,
            "min_width": null,
            "border": null,
            "align_items": null,
            "bottom": null,
            "_model_module": "@jupyter-widgets/base",
            "top": null,
            "grid_column": null,
            "overflow_y": null,
            "overflow_x": null,
            "grid_auto_flow": null,
            "grid_area": null,
            "grid_template_columns": null,
            "flex": null,
            "_model_name": "LayoutModel",
            "justify_items": null,
            "grid_row": null,
            "max_height": null,
            "align_content": null,
            "visibility": null,
            "align_self": null,
            "height": null,
            "min_height": null,
            "padding": null,
            "grid_auto_rows": null,
            "grid_gap": null,
            "max_width": null,
            "order": null,
            "_view_module_version": "1.2.0",
            "grid_template_areas": null,
            "object_position": null,
            "object_fit": null,
            "grid_auto_columns": null,
            "margin": null,
            "display": null,
            "left": null
          }
        },
        "30f1e86d200349b498685dc59815a01d": {
          "model_module": "@jupyter-widgets/controls",
          "model_name": "FloatProgressModel",
          "state": {
            "_view_name": "ProgressView",
            "style": "IPY_MODEL_9945fdeb4334465da8f9aab167fcb3b6",
            "_dom_classes": [],
            "description": "100%",
            "_model_name": "FloatProgressModel",
            "bar_style": "info",
            "max": 35,
            "_view_module": "@jupyter-widgets/controls",
            "_model_module_version": "1.5.0",
            "value": 35,
            "_view_count": null,
            "_view_module_version": "1.5.0",
            "orientation": "horizontal",
            "min": 0,
            "description_tooltip": null,
            "_model_module": "@jupyter-widgets/controls",
            "layout": "IPY_MODEL_e83ca3eec952410685afcbfdb77db6e9"
          }
        },
        "578f658ab0124a3fbe7acab9376fb90e": {
          "model_module": "@jupyter-widgets/controls",
          "model_name": "HTMLModel",
          "state": {
            "_view_name": "HTMLView",
            "style": "IPY_MODEL_23f512c8dc35415ebee95513ce0dc03a",
            "_dom_classes": [],
            "description": "",
            "_model_name": "HTMLModel",
            "placeholder": "​",
            "_view_module": "@jupyter-widgets/controls",
            "_model_module_version": "1.5.0",
            "value": " 35.0/35.0 [00:00&lt;00:00, 139batch/s, loss=0.00184]",
            "_view_count": null,
            "_view_module_version": "1.5.0",
            "description_tooltip": null,
            "_model_module": "@jupyter-widgets/controls",
            "layout": "IPY_MODEL_6634bbb6429e49368e3116d9106d9550"
          }
        },
        "9945fdeb4334465da8f9aab167fcb3b6": {
          "model_module": "@jupyter-widgets/controls",
          "model_name": "ProgressStyleModel",
          "state": {
            "_view_name": "StyleView",
            "_model_name": "ProgressStyleModel",
            "description_width": "initial",
            "_view_module": "@jupyter-widgets/base",
            "_model_module_version": "1.5.0",
            "_view_count": null,
            "_view_module_version": "1.2.0",
            "bar_color": null,
            "_model_module": "@jupyter-widgets/controls"
          }
        },
        "e83ca3eec952410685afcbfdb77db6e9": {
          "model_module": "@jupyter-widgets/base",
          "model_name": "LayoutModel",
          "state": {
            "_view_name": "LayoutView",
            "grid_template_rows": null,
            "right": null,
            "justify_content": null,
            "_view_module": "@jupyter-widgets/base",
            "overflow": null,
            "_model_module_version": "1.2.0",
            "_view_count": null,
            "flex_flow": null,
            "width": null,
            "min_width": null,
            "border": null,
            "align_items": null,
            "bottom": null,
            "_model_module": "@jupyter-widgets/base",
            "top": null,
            "grid_column": null,
            "overflow_y": null,
            "overflow_x": null,
            "grid_auto_flow": null,
            "grid_area": null,
            "grid_template_columns": null,
            "flex": null,
            "_model_name": "LayoutModel",
            "justify_items": null,
            "grid_row": null,
            "max_height": null,
            "align_content": null,
            "visibility": null,
            "align_self": null,
            "height": null,
            "min_height": null,
            "padding": null,
            "grid_auto_rows": null,
            "grid_gap": null,
            "max_width": null,
            "order": null,
            "_view_module_version": "1.2.0",
            "grid_template_areas": null,
            "object_position": null,
            "object_fit": null,
            "grid_auto_columns": null,
            "margin": null,
            "display": null,
            "left": null
          }
        },
        "23f512c8dc35415ebee95513ce0dc03a": {
          "model_module": "@jupyter-widgets/controls",
          "model_name": "DescriptionStyleModel",
          "state": {
            "_view_name": "StyleView",
            "_model_name": "DescriptionStyleModel",
            "description_width": "",
            "_view_module": "@jupyter-widgets/base",
            "_model_module_version": "1.5.0",
            "_view_count": null,
            "_view_module_version": "1.2.0",
            "_model_module": "@jupyter-widgets/controls"
          }
        },
        "6634bbb6429e49368e3116d9106d9550": {
          "model_module": "@jupyter-widgets/base",
          "model_name": "LayoutModel",
          "state": {
            "_view_name": "LayoutView",
            "grid_template_rows": null,
            "right": null,
            "justify_content": null,
            "_view_module": "@jupyter-widgets/base",
            "overflow": null,
            "_model_module_version": "1.2.0",
            "_view_count": null,
            "flex_flow": null,
            "width": null,
            "min_width": null,
            "border": null,
            "align_items": null,
            "bottom": null,
            "_model_module": "@jupyter-widgets/base",
            "top": null,
            "grid_column": null,
            "overflow_y": null,
            "overflow_x": null,
            "grid_auto_flow": null,
            "grid_area": null,
            "grid_template_columns": null,
            "flex": null,
            "_model_name": "LayoutModel",
            "justify_items": null,
            "grid_row": null,
            "max_height": null,
            "align_content": null,
            "visibility": null,
            "align_self": null,
            "height": null,
            "min_height": null,
            "padding": null,
            "grid_auto_rows": null,
            "grid_gap": null,
            "max_width": null,
            "order": null,
            "_view_module_version": "1.2.0",
            "grid_template_areas": null,
            "object_position": null,
            "object_fit": null,
            "grid_auto_columns": null,
            "margin": null,
            "display": null,
            "left": null
          }
        }
      }
    }
  },
  "cells": [
    {
      "cell_type": "markdown",
      "metadata": {
        "id": "m-s36saph8qF"
      },
      "source": [
        "# Training the PID with LSTM\n",
        "The data from 01Generate_PID.ipynb is used to train an LSTM network. This model uses the previous 15 seconds of sensor data from the PID controller run and uses it to emulate the heater output that the PID controller would use. The model is saved for use in other notebooks.\n",
        "\n",
        "Notable features:\n",
        "* The hyperparameters used to train the model (layers, dropout, batch size, units, and window size) are not necessarily optimal. However, later notebooks indicate that the model developed emulates the behavior of the PID controller well (future work could optimize these for an even better emulation).\n",
        "* Feature selection with SelectKBest method (https://scikit-learn.org/stable/modules/feature_selection.html#univariate-feature-selection) indicates that the only features necessary for good model development are the setpoint and error. The actual temperature value does not directly contribute to a better model. Additional features could in theory be derived and tested.\n",
        "* Due to the stochastic nature of model training, the model can change slightly with each time it's trained. \n",
        "* To avoid overfitting, the model stops training after the validation set loss value does not improve for 25 epochs."
      ]
    },
    {
      "cell_type": "code",
      "metadata": {
        "ExecuteTime": {
          "end_time": "2020-10-15T20:58:43.434635Z",
          "start_time": "2020-10-15T20:58:37.857198Z"
        },
        "id": "Djs914LAh8qG"
      },
      "source": [
        "import pandas as pd\n",
        "import numpy as np\n",
        "import matplotlib.pyplot as plt\n",
        "%matplotlib inline\n",
        "import pickle\n",
        "\n",
        "# For scaling, feature selection\n",
        "from sklearn.preprocessing import MinMaxScaler\n",
        "from sklearn.feature_selection import SelectKBest, f_regression\n",
        "from sklearn.model_selection import train_test_split \n",
        "\n",
        "# For LSTM model\n",
        "from keras.models import Sequential\n",
        "from keras.layers import LSTM, Dropout, Dense\n",
        "from keras.callbacks import EarlyStopping\n",
        "from tqdm.keras import TqdmCallback\n",
        "from keras.models import load_model"
      ],
      "execution_count": 1,
      "outputs": []
    },
    {
      "cell_type": "code",
      "metadata": {
        "ExecuteTime": {
          "end_time": "2020-10-15T20:58:43.604979Z",
          "start_time": "2020-10-15T20:58:43.441522Z"
        },
        "scrolled": true,
        "colab": {
          "base_uri": "https://localhost:8080/",
          "height": 265
        },
        "id": "x-fQi3R3h8qH",
        "outputId": "60247ef1-1ed1-4964-e516-348ab6fb4702"
      },
      "source": [
        "# Load training data\n",
        "df = pd.read_csv('PID_train_data.csv')\n",
        "\n",
        "# Create new feature: setpoint error\n",
        "df['err'] = df['Tsp'] - df['T1']\n",
        "\n",
        "# Load possible features\n",
        "X = df[['T1','Tsp','err']]\n",
        "y = np.ravel(df[['Q1']])\n",
        "\n",
        "# SelectKBest feature selection\n",
        "bestfeatures = SelectKBest(score_func=f_regression, k='all')\n",
        "fit = bestfeatures.fit(X,y)\n",
        "plt.bar(x=X.columns,height=fit.scores_);"
      ],
      "execution_count": 2,
      "outputs": [
        {
          "output_type": "display_data",
          "data": {
            "image/png": "[encoded data removed]",
            "text/plain": [
              "<Figure size 432x288 with 1 Axes>"
            ]
          },
          "metadata": {
            "tags": [],
            "needs_background": "light"
          }
        }
      ]
    },
    {
      "cell_type": "code",
      "metadata": {
        "ExecuteTime": {
          "end_time": "2020-10-15T20:58:43.620970Z",
          "start_time": "2020-10-15T20:58:43.609975Z"
        },
        "id": "CaWNqCuKh8qI"
      },
      "source": [
        "# Hyperparameters for model\n",
        "window = 15\n",
        "layers = 3\n",
        "batch_size = 100\n",
        "drop = 0.1\n",
        "units = 100"
      ],
      "execution_count": 8,
      "outputs": []
    },
    {
      "cell_type": "code",
      "metadata": {
        "ExecuteTime": {
          "end_time": "2020-10-15T20:58:43.668998Z",
          "start_time": "2020-10-15T20:58:43.627982Z"
        },
        "id": "JpYwkUcsh8qI"
      },
      "source": [
        "X = df[['Tsp','err']].values\n",
        "y = df[['Q1']].values\n",
        "\n",
        "# Scale data\n",
        "s_x = MinMaxScaler()\n",
        "Xs = s_x.fit_transform(X)\n",
        "\n",
        "s_y = MinMaxScaler()\n",
        "ys = s_y.fit_transform(y)\n",
        "\n",
        "# Each input uses last 'window' number of Tsp and err to predict the next Q1\n",
        "X_lstm = []\n",
        "y_lstm = []\n",
        "for i in range(window,len(df)):\n",
        "    X_lstm.append(Xs[i-window:i])\n",
        "    y_lstm.append(ys[i])\n",
        "\n",
        "# Reshape data to format accepted by LSTM\n",
        "X_lstm, y_lstm = np.array(X_lstm), np.array(y_lstm)\n",
        "\n",
        "# Split into train and test \n",
        "Xtrain, Xtest, ytrain, ytest = train_test_split(X_lstm,y_lstm,test_size=0.2,shuffle=False)"
      ],
      "execution_count": 9,
      "outputs": []
    },
    {
      "cell_type": "code",
      "metadata": {
        "ExecuteTime": {
          "end_time": "2020-10-15T21:01:16.413099Z",
          "start_time": "2020-10-15T20:58:43.674973Z"
        },
        "scrolled": false,
        "colab": {
          "base_uri": "https://localhost:8080/",
          "height": 361,
          "referenced_widgets": [
            "43aaf871055143bf85ae2b85cfd15621",
            "2da2a9e3272d4b4488f5be4dad5607de",
            "1f6a23bc076b4a6b8a316ae91071c5f0",
            "62fe1fe8893047a997c64b9eb53f699b",
            "546092b4fc8043e59c1c00368179ba19",
            "2148b13aefdd47ccb3513822b975c42f",
            "adc800f66cf444d89bf5f691a270186b",
            "af8ccf0a1bf64f1ab37547bd977c7afd",
            "eab7343812db4d61a712df14f662f512",
            "d802cba443fe447f951ab5f2fee364f3",
            "30f1e86d200349b498685dc59815a01d",
            "578f658ab0124a3fbe7acab9376fb90e",
            "9945fdeb4334465da8f9aab167fcb3b6",
            "e83ca3eec952410685afcbfdb77db6e9",
            "23f512c8dc35415ebee95513ce0dc03a",
            "6634bbb6429e49368e3116d9106d9550"
          ]
        },
        "id": "X9IX3Qkah8qI",
        "outputId": "6e78ee2a-4529-4074-b33c-eef97842a953"
      },
      "source": [
        "# Keras LSTM model\n",
        "model = Sequential()\n",
        "\n",
        "if layers == 1:\n",
        "    model.add(LSTM(units=units, \n",
        "                   input_shape=(Xtrain.shape[1],Xtrain.shape[2])\n",
        "                  )\n",
        "             )\n",
        "    model.add(Dropout(rate=drop))\n",
        "else:\n",
        "    # First layer specifies input_shape and returns sequences\n",
        "    model.add(LSTM(units=units, \n",
        "                   return_sequences=True, \n",
        "                   input_shape=(Xtrain.shape[1],Xtrain.shape[2])\n",
        "                  )\n",
        "             )\n",
        "    model.add(Dropout(rate=drop))\n",
        "    # Middle layers return sequences\n",
        "    for i in range(layers-2):\n",
        "        model.add(LSTM(units=units,return_sequences=True))\n",
        "        model.add(Dropout(rate=drop))\n",
        "    # Last layer doesn't return anything\n",
        "    model.add(LSTM(units=units))\n",
        "    model.add(Dropout(rate=drop))\n",
        "\n",
        "model.add(Dense(1))\n",
        "model.compile(optimizer='adam', loss='mean_squared_error')\n",
        "\n",
        "es = EarlyStopping(monitor='val_loss',\n",
        "                   mode='min',\n",
        "                   verbose=1,\n",
        "                   patience=60\n",
        "                  )\n",
        "\n",
        "result = model.fit(Xtrain, ytrain, \n",
        "                   verbose=0, \n",
        "                   validation_split=0.2,\n",
        "                   callbacks = [es,TqdmCallback(verbose=1)],\n",
        "                   batch_size=batch_size,\n",
        "                   epochs=350)\n",
        "\n",
        "# Show results and save\n",
        "epochs = es.stopped_epoch\n",
        "plt.semilogy(result.history['loss'],label='loss')\n",
        "plt.semilogy(result.history['val_loss'],label='val_loss')\n",
        "plt.legend()\n",
        "\n",
        "model.save('pid_emulate.h5')"
      ],
      "execution_count": 10,
      "outputs": [
        {
          "output_type": "display_data",
          "data": {
            "application/vnd.jupyter.widget-view+json": {
              "model_id": "43aaf871055143bf85ae2b85cfd15621",
              "version_minor": 0,
              "version_major": 2
            },
            "text/plain": [
              "HBox(children=(FloatProgress(value=1.0, bar_style='info', max=1.0), HTML(value='')))"
            ]
          },
          "metadata": {
            "tags": []
          }
        },
        {
          "output_type": "display_data",
          "data": {
            "application/vnd.jupyter.widget-view+json": {
              "model_id": "eab7343812db4d61a712df14f662f512",
              "version_minor": 0,
              "version_major": 2
            },
            "text/plain": [
              "HBox(children=(FloatProgress(value=1.0, bar_style='info', max=1.0), HTML(value='')))"
            ]
          },
          "metadata": {
            "tags": []
          }
        },
        {
          "output_type": "stream",
          "text": [
            "Epoch 00252: early stopping\n",
            "\n"
          ],
          "name": "stdout"
        },
        {
          "output_type": "display_data",
          "data": {
            "image/png": "[encoded data removed]",
            "text/plain": [
              "<Figure size 432x288 with 1 Axes>"
            ]
          },
          "metadata": {
            "tags": [],
            "needs_background": "light"
          }
        }
      ]
    },
    {
      "cell_type": "code",
      "metadata": {
        "ExecuteTime": {
          "end_time": "2020-10-15T21:01:16.428099Z",
          "start_time": "2020-10-15T21:01:16.415102Z"
        },
        "id": "W_nHCb6Hh8qJ"
      },
      "source": [
        "# Save model parameters\n",
        "model_params = dict()\n",
        "model_params['Xscale'] = s_x\n",
        "model_params['yscale'] = s_y\n",
        "model_params['window'] = window\n",
        "\n",
        "pickle.dump(model_params, open('model_params.pkl', 'wb'))"
      ],
      "execution_count": 11,
      "outputs": []
    },
    {
      "cell_type": "code",
      "metadata": {
        "ExecuteTime": {
          "end_time": "2020-10-15T21:02:46.282406Z",
          "start_time": "2020-10-15T21:02:45.976714Z"
        },
        "colab": {
          "base_uri": "https://localhost:8080/",
          "height": 286
        },
        "id": "w7ZNocQth8qJ",
        "outputId": "3f88e83e-7196-4602-8a6c-f0deedb92825"
      },
      "source": [
        "# Predict using LSTM\n",
        "yp_s = model.predict(Xtest)\n",
        "\n",
        "# Unscale data\n",
        "Xtest_us = s_x.inverse_transform(Xtest[:,-1,:])\n",
        "ytest_us = s_y.inverse_transform(ytest)\n",
        "yp = s_y.inverse_transform(yp_s)\n",
        "\n",
        "# Derive Tsp (setpoint) and T1 (sensor) from X data\n",
        "sp = Xtest_us[:,0]\n",
        "pv = Xtest_us[:,0] + Xtest_us[:,1]\n",
        "\n",
        "# Plot SP, PID response, and LSTM response\n",
        "plt.plot(sp,'k-',label='$SP$ $(^oC)$')\n",
        "plt.plot(pv,'r-',label='$T_1$ $(^oC)$')\n",
        "plt.plot(ytest_us,'b-',label='$Q_{PID}$ (%)')\n",
        "plt.plot(yp,'g-',label='$Q_{LSTM}$ (%)')\n",
        "plt.legend(fontsize=12,loc='lower right')\n",
        "plt.xlabel('Time',size=14)\n",
        "plt.ylabel('Value',size=14)\n",
        "plt.xticks(size=12)\n",
        "plt.yticks(size=12);"
      ],
      "execution_count": 12,
      "outputs": [
        {
          "output_type": "display_data",
          "data": {
            "image/png": "[encoded data removed]",
            "text/plain": [
              "<Figure size 432x288 with 1 Axes>"
            ]
          },
          "metadata": {
            "tags": [],
            "needs_background": "light"
          }
        }
      ]
    }
  ]
}