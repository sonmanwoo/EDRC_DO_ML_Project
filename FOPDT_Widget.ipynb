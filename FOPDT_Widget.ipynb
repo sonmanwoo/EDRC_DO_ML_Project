{
  "nbformat": 4,
  "nbformat_minor": 0,
  "metadata": {
    "colab": {
      "name": "Untitled7.ipynb",
      "provenance": [],
      "authorship_tag": "ABX9TyOD5vlosdFanO9Q06MOq1W/",
      "include_colab_link": true
    },
    "kernelspec": {
      "name": "python3",
      "display_name": "Python 3"
    },
    "widgets": {
      "application/vnd.jupyter.widget-state+json": {
        "f181aae7d9d545de8afe183d33ed98fe": {
          "model_module": "@jupyter-widgets/controls",
          "model_name": "VBoxModel",
          "state": {
            "_view_name": "VBoxView",
            "_dom_classes": [
              "widget-interact"
            ],
            "_model_name": "VBoxModel",
            "_view_module": "@jupyter-widgets/controls",
            "_model_module_version": "1.5.0",
            "_view_count": null,
            "_view_module_version": "1.5.0",
            "box_style": "",
            "layout": "IPY_MODEL_7053438984fa4d3cab454f465b27907e",
            "_model_module": "@jupyter-widgets/controls",
            "children": [
              "IPY_MODEL_125c2731657a4908802c1903b4635c35",
              "IPY_MODEL_0e2478bf6b444364867f079907a784b0",
              "IPY_MODEL_d89c830c057440baae68e1def6de0724",
              "IPY_MODEL_3c928d1eb53244c4b3d8de81042f0fd5"
            ]
          }
        },
        "7053438984fa4d3cab454f465b27907e": {
          "model_module": "@jupyter-widgets/base",
          "model_name": "LayoutModel",
          "state": {
            "_view_name": "LayoutView",
            "grid_template_rows": null,
            "right": null,
            "justify_content": null,
            "_view_module": "@jupyter-widgets/base",
            "overflow": null,
            "_model_module_version": "1.2.0",
            "_view_count": null,
            "flex_flow": null,
            "width": null,
            "min_width": null,
            "border": null,
            "align_items": null,
            "bottom": null,
            "_model_module": "@jupyter-widgets/base",
            "top": null,
            "grid_column": null,
            "overflow_y": null,
            "overflow_x": null,
            "grid_auto_flow": null,
            "grid_area": null,
            "grid_template_columns": null,
            "flex": null,
            "_model_name": "LayoutModel",
            "justify_items": null,
            "grid_row": null,
            "max_height": null,
            "align_content": null,
            "visibility": null,
            "align_self": null,
            "height": null,
            "min_height": null,
            "padding": null,
            "grid_auto_rows": null,
            "grid_gap": null,
            "max_width": null,
            "order": null,
            "_view_module_version": "1.2.0",
            "grid_template_areas": null,
            "object_position": null,
            "object_fit": null,
            "grid_auto_columns": null,
            "margin": null,
            "display": null,
            "left": null
          }
        },
        "125c2731657a4908802c1903b4635c35": {
          "model_module": "@jupyter-widgets/controls",
          "model_name": "FloatSliderModel",
          "state": {
            "_view_name": "FloatSliderView",
            "style": "IPY_MODEL_08f5913e27f348859ee163d19479c5ce",
            "_dom_classes": [],
            "description": "K",
            "step": 0.1,
            "_model_name": "FloatSliderModel",
            "orientation": "horizontal",
            "max": 10,
            "_view_module": "@jupyter-widgets/controls",
            "_model_module_version": "1.5.0",
            "value": 4.4,
            "_view_count": null,
            "disabled": false,
            "_view_module_version": "1.5.0",
            "min": -10,
            "continuous_update": true,
            "readout_format": ".2f",
            "description_tooltip": null,
            "readout": true,
            "_model_module": "@jupyter-widgets/controls",
            "layout": "IPY_MODEL_aad4bc1e48ce48b9af01aca3411851f3"
          }
        },
        "0e2478bf6b444364867f079907a784b0": {
          "model_module": "@jupyter-widgets/controls",
          "model_name": "FloatSliderModel",
          "state": {
            "_view_name": "FloatSliderView",
            "style": "IPY_MODEL_f545e9c326064fcc932c32d4729fdfce",
            "_dom_classes": [],
            "description": "tau",
            "step": 0.1,
            "_model_name": "FloatSliderModel",
            "orientation": "horizontal",
            "max": 10,
            "_view_module": "@jupyter-widgets/controls",
            "_model_module_version": "1.5.0",
            "value": 7.9,
            "_view_count": null,
            "disabled": false,
            "_view_module_version": "1.5.0",
            "min": 0.1,
            "continuous_update": true,
            "readout_format": ".2f",
            "description_tooltip": null,
            "readout": true,
            "_model_module": "@jupyter-widgets/controls",
            "layout": "IPY_MODEL_c90e5a5dca1a432bbf5f24d2bf95e20e"
          }
        },
        "d89c830c057440baae68e1def6de0724": {
          "model_module": "@jupyter-widgets/controls",
          "model_name": "FloatSliderModel",
          "state": {
            "_view_name": "FloatSliderView",
            "style": "IPY_MODEL_5345e40d427e46b8a9afa9fcdb059d36",
            "_dom_classes": [],
            "description": "theta",
            "step": 0.1,
            "_model_name": "FloatSliderModel",
            "orientation": "horizontal",
            "max": 15,
            "_view_module": "@jupyter-widgets/controls",
            "_model_module_version": "1.5.0",
            "value": 4,
            "_view_count": null,
            "disabled": false,
            "_view_module_version": "1.5.0",
            "min": 0.1,
            "continuous_update": true,
            "readout_format": ".2f",
            "description_tooltip": null,
            "readout": true,
            "_model_module": "@jupyter-widgets/controls",
            "layout": "IPY_MODEL_b13d1d5360e44bfb9252c9c4b8898aec"
          }
        },
        "3c928d1eb53244c4b3d8de81042f0fd5": {
          "model_module": "@jupyter-widgets/output",
          "model_name": "OutputModel",
          "state": {
            "_view_name": "OutputView",
            "msg_id": "",
            "_dom_classes": [],
            "_model_name": "OutputModel",
            "outputs": [
              {
                "output_type": "display_data",
                "metadata": {
                  "tags": [],
                  "needs_background": "light"
                },
                "image/png": "iVBORw0KGgoAAAANSUhEUgAAA4MAAAGtCAYAAACsrqGVAAAABHNCSVQICAgIfAhkiAAAAAlwSFlzAAALEgAACxIB0t1+/AAAADh0RVh0U29mdHdhcmUAbWF0cGxvdGxpYiB2ZXJzaW9uMy4yLjIsIGh0dHA6Ly9tYXRwbG90bGliLm9yZy+WH4yJAAAgAElEQVR4nOzdd3wVVf7/8fdJI1KkBAiEAAm9hVASikYCCggICmJBV8XK2hb2Z2O/uir2XXRl1V1WccWCWFYsoIIUCxKQkiASQCMdAqGF3hISzu+PSW5Ig5Dk3pvkvp6PxzzuvTNnZj5DuSfvTDnGWisAAAAAgG/x83YBAAAAAADPIwwCAAAAgA8iDAIAAACADyIMAgAAAIAPIgwCAAAAgA8iDAIAAACADyqXMGiMmWqM2WOMWXPGvHrGmPnGmPU5r3WLWXd0Tpv1xpjR5VEPAAAVAf0jAKAiK68zg+9IGlRg3l8kfWutbS3p25zP+Rhj6kl6UlJPST0kPVlcpwgAQCX0jugfAQAVVLmEQWvtj5L2F5h9laR3c96/K2l4EateLmm+tXa/tfaApPkq3GkCAFAp0T8CACqyADduO9Ram5bzfpek0CLaNJG0/YzPqTnzCjHGjJE0RpJq1KjRvV27duVYKgCgIkpKStpnrW3g7TrKGf0jAKDMyqOPdGcYdLHWWmOMLeM2pkiaIkkxMTE2MTGxXGoDAFRcxpit3q7BnegfAQClVR59pDufJrrbGNNYknJe9xTRZoekpmd8Ds+ZBwBAVUX/CACoENwZBmdJyn362WhJM4toM1fSQGNM3Zwb4wfmzAMAoKqifwQAVAjlNbTEh5J+ktTWGJNqjLlD0t8kDTDGrJfUP+ezjDExxpj/SpK1dr+kZyStyJmezpkHAEClR/8IAKjIjLVlulXBK7gnAvC+U6dOKTU1VSdPnvR2KagCgoODFR4ersDAwHzzjTFJ1toYL5VV6dA/oiqhnwEc7uwjPfIAGQBVT2pqqmrVqqWIiAgZY7xdDioxa63S09OVmpqqyMhIb5cDoIKgnwHc30e6855BAFXYyZMnFRISQgeNMjPGKCQkhN/+A8iHfgZwfx9JGARQanTQKC/8WwJQFL4bAPf+PyAMAgAAAIAPIgwCAAAAgA8iDAIAAACADyIMAqiSTpw4ofj4eGVnZ0tynkr38ccfKzMzU3369FFWVpbb95u7z7LIzs7WuHHj1LFjR0VFRWnTpk3FHkPuUEETJkzI9zlXWlqaRo0apZiYGLVp00b9+vUrVLOkMtd9PjUDQGVVWb4733jjDd19992SnOE6br75Zo0ePVqnTp0q9lhuv/12NWzYUJ06dSr1fstbwRrPdx1P98l33323Fi9eXOR2Cq7jzT6SMAigSpo6daquvvpq+fv7S5K+/fZbrVy5UkFBQbrsssvK3CGUZL+5+yyLF154QS1atNDatWs1duxYTZ48udhjmD59ul588UWdPHlSEydO1PTp0/Mtv/nmmzVixAglJibq999/16uvvlqoZkllrvt8agaAyqqyfHcmJyerc+fOOnz4sAYPHqxmzZrp3XffzTdmXcFjufXWW/XNN9+Uep/uULDG813H033y0qVL1atXryK3U3Adr/aR1tpKN3Xv3t0C8K5169ZZa62V5NbpbJKTk23v3r1dn5OSkuyll15qrbW2d+/edvPmzdZaaxctWmTr1atnW7RoYaOjo+2qVavs4MGDy3T8ffv2tfPmzbPWWvvYY4/Z+++/P99+C+5z48aN572Po0eP2m7durk+z58/31511VXWWlvsMXzwwQfWz8/Pfvjhh/nmZ2VlWX9/f5uWllZonbP9WZ1v3aWpOVfuv6kzSUq0FaDfqSwT/SOqkqK+E7zhXN/31nr3u/NcLrnkEvvhhx/arl272tdff73INmceS67Nmzfbjh07lnq/uaZNm2ZjY2NtdHS0HTNmjM3KyrLLly+3UVFR9sSJE/bo0aO2Q4cONjk52W7evNm2bdvW3njjjbZdu3Z25MiR9tixY8XWeC7e6pPXrVtnr732Wnvo0CHbpUsX26FDB3vBBRfY6Oho27NnT5udnV1oHW/1kV7vuEoz0dkB3lcRwmB2drYNDQ21WVlZ1lpr4+PjbVJSks3IyLChoaH52l5++eU2OTnZWusEo/r16xfaXlxcnI2Oji40zZ8/v1DbhQsX2vj4ePv+++/bIUOG2KysrEL7PXOfpfHFF1/YBg0auOpo2rSpve2224o9hunTp9uJEyfa8ePH27///e92+vTphf4MGjZsaMeMGWMTEhKstfacf1burvlMhEH6R+BMhb4TpOKnN97Ia/fGG2dve55K8n1vree/O0vaZ9WpU8fWr1/fzpo1q8h9F3Us1pZPGFy3bp0dOnSozczMtNZae88999h3333XWusE6wcffNDee++99vnnn3ftU5Krj7rtttvsiy++WGyNZ+PNPvkf//iHfeutt1yfly1bZq+88sp82yu4jrf6yIByPc0IAB7k5+enjh07au3atVq/fr2aN2+ubt26aefOnapTp06+tikpKWrXrp0kyd/fX0FBQTpy5Ihq1arlarNo0aIS77tPnz6y1urll1/WDz/8IH9/f+3evTvffs/c55n69++vXbt2FZr/3HPP6aqrrnJ9XrVqlZ5++mnXvR533nmnOnfuXOwx3HDDDTLGaMKECXrkkUfk9BN55syZo8WLF2vWrFkaNGiQpk2bph49epz1z+p86z7fmgGgoivJ971U9Henu77vpZL1Wdu3b1fNmjXVunVrpaWlFdlm3759hY6lJEpybN9++62SkpIUGxsrybmHr2HDhpKkJ554QrGxsQoODnbdtiBJTZs21cUXXyxJuummm/Tqq6/qxhtvLFTjufZf8Lg82SfPnTtXb7/9tmvdNWvWqGPHjvm2X3Adb/WRhEEAlVqvXr20ePFiTZ482XV/wwUXXKCTJ0+62uzbt0+1a9dWQEDeV15GRoaCg4PzbeuSSy7RkSNHCu3jpZdeUv/+/fPNS05OVlpamkJCQlxf2mfut6h95lqwYEGJju3AgQOKjIyUJGVlZWnevHl67LHHij2G3EFpcx8gU3CQWmOM4uLiFBcXpwMHDmj16tWKj48/55/V+dR9vjUDQIkV+AVXscaMcaZycq7ve6n47053fd9LJeuzkpOTFR0drTfffFO9evVSbGysunbtmq99wWMpqZIcm7VWo0eP1gsvvFBoWXp6uo4ePapTp07p5MmTqlGjhqSi+66iajzX/r3VJx8/flwHDx5UWFiYa9m6devUrVu3Qtss+PfqjT6SB8gAKJOyXp5wrulcevXqpb/+9a8aMWKEmjRpIkmqW7eusrOzXZ3Ali1b8n0pp6enq379+vlunpec37KuWrWq0FQwCKalpekPf/iDZs6cqZo1a7pC6Jn7LbjP0mjTpo2WLl0qSZo0aZKuuOIKV0dU3DEUZ+7cucrMzJQk7dmzRwkJCRowYMA5/6y8WTMAeFtJvu8l73x3lqTPWr16taKiotS4cWP997//1fXXX69Dhw7l207BYylPl112mWbMmKE9e/ZIkvbv36+tW7dKkv74xz/qmWee0R/+8AeNHz/etc62bdv0008/SZI++OADxcXFlapGb/XJ33//vetp3bl27typRo0a5ZtX8O/VW30kYRBApdauXTtVq1YtX0ciSQMHDlRCQoKrzb59+9SpUyctWbJE33//va644opS7e/48eO6+uqr9Y9//EPt27fX448/rqeeeqrQfgvuszRuuOEGrVy5Uq1atdLq1av18ssvu5ad7zHMmDFD7du3V3R0tIYOHapnnnlGvXv3zlezVPjPyps1A4A3lfT7Xqq4353JycmKioqSJA0YMEDXXXedbr/99kLtzjyW3Hp69+6tlJQUhYeH66233irV/jt06KBnn31WAwcOVOfOnTVgwAClpaXpvffeU2BgoG688Ub95S9/0YoVK/Tdd99Jktq2bat///vfat++vQ4cOKB77rmnyBpLwht98pw5czRo0KB8615++eW64447tHDhwiLXKeqzx7j7t/rumLhBHvC+ivKUt/vuu8++8847heYnJSXZm266qch1RowYYVNSUtxSz9n2W57K8xgqSs08QIb+EThTRelnilNRvjvLg6eO5VzO9tCa0tTojb+jrl27uh6YU9J1ivpckLv6SM4MAqiUNm7cqHbt2unEiRMaPXp0oeXdunVTv379Cg1Om5mZqeHDh6tNmzZuqau4/Zan8j6GylgzAHhbVfru9MSxlFVpavTG39HKlSvPealnwXW82UcaJ1RWLjExMTYxMdHbZQA+7ddff1X79u29XQaqkKL+TRljkqy1MV4qqdKhf0RVQj8D5HFXH8mZQQAAAADwQYRBAAAAAPBBhEEApVYZLzNHxcS/JQAAPI8wCKBUgoODlZ6ezg/xKDNrrdLT0xmMHgAADwvwdgEAKqfw8HClpqZq79693i4FVUBwcLDCw8O9XQYAAD6FMAigVAIDAxUZGentMgAAAFBKXCYKAAAAAD6IMAgAAAAAPogwCAAAABQjLS1No0aNUkxMjNq0aaN+/fpJkk6cOKH4+HhlZ2dLklJTU/Xxxx+Xej/Z2dkaN26cOnbsqKioKG3atEmZmZnq06ePsrKyyuVYgIIIgwAAAEAxbr75Zo0YMUKJiYn6/fff9eqrr0qSpk6dqquvvlr+/v6SpG+//VYrV64s9X5eeOEFtWjRQmvXrtXYsWM1efJkBQUF6bLLLitTyATOhjAIAACACs88ZWSeMvnmDftwmMxTRl+mfOmaNyVpisxTRmO+HOOat/PITpmnjML+EXZe+8zOztYPP/yg+Ph417yoqChJ0vTp03XVVVdJkhISEvTAAw9oxowZ6tKlizZt2nRe+zl27Jg+//xzjRs3TpIUGRmpDRs2SJKGDx+u6dOnn9f2gJLiaaIAAABAEfz9/dW/f39FR0dr+PDhuuWWW3TxxRcrMzNTmzZtUkREhCQpLi5OsbGxeumll9SpU6fz3s+CBQu0fft2denSRZK0f/9+9e/fX5LUqVMnrVixotyOCTgTYRAAAAAVnn3SFpr35Q1fFpo3pvsYjek+Jt+8sFphRa5fEnPmzNHixYs1a9YsDRo0SNOmTVOPHj1Up06dfO1SUlLUrl27Quv3799fu3btKjT/ueeec51ZXLVqlZ5++mndfffdkqQ777xTnTt3luQE0qCgIB05ckS1atUq1TEAxSEMAgAAAMUwxiguLk5xcXE6cOCAVq9erfj4eJ08edLVZt++fapdu7YCAgr/aL1gwYJz7uPAgQOusXuzsrI0b948PfbYY67lGRkZCg4OLoejAfLjnkEAAACgCHPnzlVmZqYkac+ePUpISNCAAQNUt25dZWdnuwLhli1bFBZ2fvcjnqlNmzZaunSpJGnSpEm64oorXOEwPT1d9evXV2BgYBmPBiiMMAgAAAAUYcaMGWrfvr2io6M1dOhQPfPMM+rdu7ckaeDAgUpISJAktWvXTvv27VOnTp20ZMmS897PDTfcoJUrV6pVq1ZavXq1Xn75Zdey77//XldccUX5HBBQAJeJAgAAAEV48803i1123333adKkSerfv79q1qyp5cuXl3o/devWdZ0ZLOiDDz7Q3/72t1JvGzgbzgwCAAAA56lbt27q16+fa9B5d8jMzNTw4cPVpk0bt+0Dvo0zgwAAAEAp3H777W7dflBQkG655Ra37gO+jTODAAAAAOCDCIMAAACokKwt3diAQFXizv8HhEEAAABUOMHBwUpPTycQwqdZa5Wenu62cSbdes+gMaatpI/PmNVC0hPW2n+e0aavpJmSNufM+sxa+7Q76wIAwJvoH4FzCw8PV2pqqvbu3evtUgCvCg4OVnh4uFu27dYwaK1NkdRFkowx/pJ2SPq8iKaLrLVD3VkLAAAVBf0jcG6BgYGugdcBuIcnLxO9TNJGa+1WD+4TAICKjv4RAOAVngyDoyR9WMyy3saYX4wxc4wxHYtqYIwZY4xJNMYkcrkAAKAKoX8EAHiFR8KgMSZI0pWSPili8UpJza210ZJek/RFUduw1k6x1sZYa2MaNGjgvmIBAPAQ+kcAgDd56szgYEkrrbW7Cy6w1h621h7NeT9bUqAxpr6H6gIAwJvoHwEAXuOpMHiDirkExhjTyBhjct73yKkp3UN1AQDgTfSPAACvcevTRCXJGFND0gBJfzxj3t2SZK19XdI1ku4xxmRJOiFplGVAGQBAFUf/CADwNreHQWvtMUkhBea9fsb7f0n6l7vrAACgIqF/BAB4myefJgoAAAAAqCAIgwAAAADggwiDAAAAAOCDCIMAAAAA4IMIgwAAAADggwiDAAAAAOCDCIMAAAAA4IMIgwAAAADggwiDAAAAAOCDCIMAAAAA4IMIgwAAAADggwiDAAAAAOCDCIMAAAAA4IMIgwAAAADggwiDAAAAAOCDCIMAAAAA4IMIgwAAAADggwiDAAAAAOCDCIMAAAAA4IMIgwAAAADggwiDAAAAAOCDCIMAAAAA4IMIgwAAAADggwiDAAAAAOCDCIMAAAAA4IMIgwAAAADggwiDAAAAAOCDCIMAAAAA4IMIgwAAAADggwiDAAAAAOCDCIMAAAAA4IMIgwAAAADggwiDAAAAAOCDCIMAAAAA4IMIgwAAAADggwiDAAAAAOCDCIMAAAAA4IMIgwAAAADgg9weBo0xW4wxycaYVcaYxCKWG2PMq8aYDcaY1caYbu6uCQAAb6N/BAB4W4CH9tPPWruvmGWDJbXOmXpK+k/OKwAAVR39IwDAayrCZaJXSXrPOpZKqmOMaeztogAA8DL6RwCAW3kiDFpJ84wxScaYMUUsbyJp+xmfU3Pm5WOMGWOMSTTGJO7du9dNpQIA4DH0jwAAr/JEGIyz1naTc7nLfcaYPqXZiLV2irU2xlob06BBg/KtEAAAz6N/BAB4ldvDoLV2R87rHkmfS+pRoMkOSU3P+ByeMw8AgCqL/hEA4G1uDYPGmBrGmFq57yUNlLSmQLNZkm7JeWpaL0mHrLVp7qwLAABvon8EAFQE7n6aaKikz40xufv6wFr7jTHmbkmy1r4uabakIZI2SDou6TY31wQAgLfRPwIAvM6tYdBau0lSdBHzXz/jvZV0nzvrAACgIqF/BABUBBVhaAkAAAAAgIcRBgEAAADABxEGAQAAAMAHEQYBAAAAwAcRBgEAAADABxEGAQAAAMAHEQYBAAAAwAcRBgEAAADABxEGAQAAAMAHEQYBAAAAwAcRBgEAAADABxEGAQAAAMAHEQYBAAAAwAcRBgEAAADABwV4uwAAAAo6deqUDhw44O0yAACo0giDAAC3ysrK0v79+7V3717t27evyCk9Pd31mp6erkOHDnm7bAAAKh5rpWPHpFOnymVzhEEAwHk5ffq09u/fr927d2vPnj2uae/evYVe9+7dqwMHDsha6+2yAQCoeI4fl/budaZ9+6Q6daRevZxlO3dK48Y589PT814zM6WRI8tl94RBAIBOnz6tffv2adeuXa5p9+7drtfc4Ld7927t27dP2dnZ3i4ZAICK5+RJac+ewtP990vVqztt7rtP+vprJwAeP55//SuvlGbOzPs8Y0bhfQQHS37l8+gXwiAAVGGZmZlKS0vTzp07lZaWlm/KDX1paWnas2dPhQp4xhjVrVtX+/fv93YpAABfd+KEtHu3tGuXM+W+j42Vhgxx2nz/vTR8uHT4cNHbGDlSatnSeb9/v7R1q/M+KEhq0MCZ6teXunbNW6dBA+mjj6SQEGeqX995zQ2VxpT50AiDAFAJ5Z7J27FjR75p586drtedO3dq37593i5VklS3bl01aNBA9evXd73Wr19fISEh+d7nfq5Tp478/f1lyqGjAwCgEGud4LZzp5SWlve6f7/0wgt57bp3l1auLHob99yTFwZr1XK2FxAgNWwohYY6r7nTBRfkrfe3v0nPPeeEvZo1iw91gYHS9deXz/EWgzAIABXM6dOntWfPHm3fvl2pqamu1zOnHTt2KDMz02s11q5dW6GhoWrYsGG+qUGDBq4p93NISIgCAuhuAAAekpnphLvUVGnHDmeKi5N69HCWT58ujRlT+BLNXE88kRfeatZ0QlmjRs4UGupMjRpJF12Ut050tHM/X9265z5j17x52Y+xnNA7A4CHHT9+XNu2bdPWrVu1bdu2QlNqaqpXgl6dOnXUqFEjhYaGqnHjxgoNDXV9zg1+ua/VqlXzeH0AACgjwwl527dLR45Iw4blLYuLk9avd+7RK+jZZ/PCYK1aThCsXl0KC3Omxo3zptOn89abPdtpd66AFxgo1atX9uPzMMIgAJSzo0ePasuWLUVOW7du9eilm8YYV7gLCwtzvTZq1EiNGzdW48aNXYEvODjYY3UBAFCItc5DVS64wAlskvTVV9Lbb0vbtjkBcPfuvPb16jln43Lt3u0EQX9/J9Q1aZI3xcbmtRs4UDp0yNnHuUJejRrld3wVEGEQAM7TqVOntH37dm3atMk1bd68WZs2bdKWLVs8FvYuvPBCNWnSpNAUFhamsLAwNWnSRKGhoVyiCQCoWLKypE8+kbZsyZu2bnUC34kT0jvvSKNHO223b5c++yxvXX9/J9w1bepM2dnOPEmaNUuqXdu5jDN3XlGCg50JhEEAKMqxY8e0YcMGbdy4URs3btSGDRu0adMmbdy4Udu2bXP7kzdr166tpk2bqmnTpgoPD8/3Pjw8XE2aNFGt3N+aAgBQURw+LG3eLG3alDdt3uyc7fv0U6eNv790++3OMAwF1anjBMJcAwc6T9Rs3twJf40aFR/02rcv/+Op4giDAHzW8ePHtWHDBq1fvz7ftGHDBqWlpbltv/7+/goPD1ezZs3UvHlzNW/eXM2aNVPTpk1drxdeeKHb9g8AQKlZ61yOuWGDM8XHS5GRzrKnnpImTCh6vdq1894b4zzAJShIiohwgl5EhNSsmVSw/2vZMm9IBpQ7wiCAKi07O1tbt25VSkqKUlJS9Pvvv7um7du3u2WfAQEBatasmSIiIhQZGamIiAhX6IuIiFBYWBiXbgIAKoeMDCfgrV+fFwCPHctbPnVqXhgMC3Muv2zRwpnXokXe+8hIJ0jm3qP3yisePxQUxk8jAKqEY8eOKSUlRb/99lu+6ffff1dGRka5769Ro0Zq0aKFWrRoocjISNdrZGSkmjRpIv+z3asAAEBFcOyY9PvvUkqK85o7Va8u/fCD0yYoSHrttfwBsF4952xdq1bOpZu5br1VuuMOyc/Pk0eBMiAMAqhUDh8+rHXr1hWatm7dWq778ff3V0REhFq2bKmWLVuqVatWatmypSsA1qjiTxcDAFQRuZd1/vqr1Latc/ZOkp5/XnrssaLXqV497yyeMdKLLzqXb7Zu7QTA4oZQCAx0zzHAbQiDACqk48ePa926dVqzZo1rWrt2rVJTU8ttH35+foqIiFDr1q0LTc2bN1cgnRoAoDLJzpYWLJDWrcs/HTzoLH/zTenOO533TZo44a1VKycktm0rtWmT93qme+7x7HHAYwiDALwqOztbGzduVHJyslavXq3k5GQlJydr48aNstaWyz7q16+vtm3b5pvatGmjFi1aMHg6AKByyT3Tt2aNMx06JD35pLPMz0+65hrp6NH869Sp4zxp88ynUI8aJf3hDxL3sPs0/vYBeMzhw4e1evVq/fLLL65pzZo1On78eJm3bYxRixYt1L59e7Vr18712rZtW4WEhJRD9QAAeMny5dL06dLq1VJycv6B1qtVk/76V2e4BWOkm25yXjt2dAJghw7OuHsFB1fnl6EQYRCAm6Slpennn392TatWrdLGjRvLvF1/f3+1bt1aHTt2VIcOHdShQwe1b99ebdu2VTADyAIAKiNrpdRUadUq6ZdfnGnUKGnkSGd5Sor06qt57WvXljp1cqaOHaVTp/LG3vvPfzxfPyotwiCAMrHWKjU1VUlJSVq5cqWSkpKUlJSk3bt3l2m7uWf6OnXq5Jo6duyoNm3acGknAKBqeOIJafFiJwTu359/WVhYXhiMi5P+9jcpKsqZwsMLn+kDSoEwCOC8pKWlacWKFUpMTFRSUpISExO1Z8+eMm0zJCREnTt3VufOnRUVFaWoqCh17NiRJ3YCACq3U6ecB7gkJUkrV0pr1zoPeMk9i7dggfTTT877kBCpSxcpOtqZevfO205kpDR+vOfrR5VHGARQrMOHDysxMVHLli3T8uXLtWLFCu3YsaPU2/Pz81Pbtm0VHR2db2rcuLEMv+EEAFQFv//uDKielOSc8Ss41m1KinMfnyQ9/riUlSV17eo83ZO+EB5GGAQgScrKytLatWu1dOlSLVu2TEuXLtVvv/1W6id6VqtWTZ07d1a3bt3UtWtXdenSRVFRUapevXo5Vw4AgIdZK23bJi1b5jzcpWXLvOEXTpyQJk/Oa9uypdS9e94UEZG3bPBgj5YNFEQYBHxUenq6li5dqiVLluinn37S8uXLdezYsVJtq3r16urSpYu6d++u7t27q1u3bmrXrh3j9AEAqo4VK5zLOpcudULgmffGX3JJXhjs2FH6+9+d4Netm1S3rnfqBUqAMAj4AGut1q9fr4SEBC1ZskSLFy/Wb7/9VqptBQUFqUuXLoqNjVVsbKy6d++udu3aKYBxigAAVYG10oYN0pIl0uWXS40aOfP/+19pypS8diEhUo8eznTxxXnzAwKkRx7xbM1AKbntpzdjTFNJ70kKlWQlTbHWvlKgTV9JMyVtzpn1mbX2aXfVBPiKrKws/fzzz1q0aJESEhKUkJCgvXv3nvd2jDHq0KGDevTooR49eig2NlZRUVEKCgpyQ9WA76CPBCqQjAzn/r7Fi51pyRIpt8+cPl268Ubn/bBhUlCQ1KuX1LOnc/kn9/ihknPnr/KzJD1orV1pjKklKckYM99au65Au0XW2qFurAOo8jIyMrRixQotXLhQP/74o5YsWaKjR4+e93YaNGigXr16uaaYmBhdeOGFbqgY8Hn0kYC3ZGTkDbiemSk1aCAdOZK/TWio8zTPhg3z5g0d6kxAFeK2MGitTZOUlvP+iDHmV0lNJBXs6ACcp4yMDC1btkw//PCDftWe+AAAACAASURBVPjhB/300086efLkeW3Dz89PUVFRuuiii3TRRRepd+/eatGiBU/1BDyAPhLwoH37pB9/zJt27JDS0iQ/P+dMX8eOThiMi3Mu97zoIqlFC876wSd45CYfY0yEpK6SlhWxuLcx5hdJOyU9ZK1dW8w2xkgaI0nNmjVzT6FABZWVlaXExER99913+u6777RkyRKdOHHivLZRs2ZN9erVS3Fxcbr44ovVo0cPzvoBFUBZ+0j6R6AIKSnSa69JCxdKa9bkXxYYKG3Z4gQ+yWnD7Q/wUW4Pg8aYmpI+lfRna+3hAotXSmpurT1qjBki6QtJrYvajrV2iqQpkhQTE1O6Z90DlYS1VmvXrtWCBQv07bffauHChTpS8BKWcwgNDdUll1yiSy65RHFxcercuTMPeQEqmPLoI+kf4fMOHXICXbVqzgNfJOnwYenf/3beBwc79/nFxztTz57SmcMcEQThw9z6k6ExJlBOJzfdWvtZweVndnzW2tnGmMnGmPrW2n3urAuoiNLS0jR//nzNnz9fCxYs0K5du85r/fDwcPXt21d9+vRRfHy8WrduzSWfQAVGHwmU0smTzkNeFiyQvv1WSkyUTp92gl5uGOzaVXruOWfIhx498u4RBJCPO58maiS9JelXa+3LxbRpJGm3tdYaY3pI8pOU7q6agIrk5MmTSkhI0Ny5czVv3jytXr36vNYPDw9Xv3791LdvX/Xt21eRkZGEP6CSoI8ESulvf5OeftoZ2D1XQIBzn9/AgfnnPfqo5+sDKhl3nhm8WNLNkpKNMaty5j0qqZkkWWtfl3SNpHuMMVmSTkgaZa3lEhdUWRs2bNCcOXM0d+5cff/99zp+/HiJ123YsKEuvfRSXXrpperXr59atmxJ+AMqL/pI4Gz27pXmzZPmzpVuvlkaMMCZHxrqBMHoaKl/f2eKi5Nq1vRuvUAl5c6niSZIOutPqtbaf0n6l7tqALzt5MmT+vHHHzV79mzNnj1b69evL/G6NWrUUN++fXXZZZepf//+6tSpE+EPqCLoI4ECsrOlZcukOXOkb75xxv3L/d1HrVp5YfCaa6QhQ5xQCKDMeJoEUM7S0tI0e/ZsffXVV5o/f76OHTtWovX8/PwUGxurAQMGaODAgerZsyeDuwMAfEN8vDPge65q1fLuAbziirz5tWo5E4ByQRgEyshaq+TkZM2aNUuzZs3SihUrSrxueHi4Lr/8cg0aNEiXXnqp6tWr58ZKAQDwImul1aulr7+WvvpKev/9vOEdLrpI2r1bGjzYmeLj8z/xE4BbEAaBUsjKytKiRYv0xRdfaObMmdq6dWuJ1gsMDFSfPn00aNAgDR48WB06dODSTwBA1ZWR4Qz7MGuWM23fnrfsq6+ksWOd988+K02c6J0aAR9GGARK6Pjx45o3b54+//xzffXVV9q/f3+J1gsLC9OQIUN0xRVX6LLLLlMtLm8BAPiCrCypWTNpz568eY0aSUOHOpd+9u+fN5/bIgCvIAwCZ3H48GF9/fXX+vTTTzVnzpwSP/0zNjZWw4YN09ChQ9WlSxfO/gEAqra0NGnmTOfhL598IgUGOsM79Owpbd0qXXmlM3XvLvn5ebtaADkIg0ABBw8e1JdffqkZM2Zo7ty5ysjIOOc6wcHB6t+/v6688koNHTpUjRs39kClAAB40ZYt0mefOdOSJXlP/1y4MO+s3//+JwUHe61EAGdHGAQkHTp0SLNmzdL//vc/zZ07V6dOnTrnOiEhIRo6dKiGDx+uAQMGqEaNGh6oFAAAL0tPlwYNkhIT8+ZVq+Y8+XPECOfsXy6CIFChEQbhs44dO6avvvpKH374oebMmaPMzMxzrhMeHq6rr75aI0aMUFxcnAIC+C8EAKjiNm+WEhKcwd8lqV49af9+qUYN5/6/q692xv5j4Heg0uEnWfiUzMxMzZ07Vx9++KFmzpxZonsAW7RooWuuuUYjR45UbGws9/8BAKq+HTucSzw/+khavtyZd+mlUpMmkjHSl19KkZHSBRd4t04AZUIYRJV3+vRpLV68WNOnT9cnn3xSoqeAtm7dWtdee62uvfZaRUdHEwABAFXf0aPSBx84048/5t0DWKOG8/CXEyfy2nbo4J0aAZQrwiCqrJSUFE2bNk3Tp0/Xli1bztm+ZcuWuv7663Xdddepc+fOBEAAQNV3+nTe0z0zM6X775dOnXLuARwyRLrhBmcYCAaAB6okwiCqlP379+ujjz7Su+++q+W5l7WcRZMmTTRq1CiNGjVK3bt3JwACAKq+06edJ35OmyYtXiytXesMA1GvnvTXv0rNm0vDh0u1a3u7UgBuRhhEpZeVlaVvvvlG77zzjr788stzPgimXr16uvbaa3XjjTcqLi5Ofox3BADwBevXS+++K733nrR9e978pUuluDjn/RNPeKc2AF5BGESllZKSorffflvvvvuudu3adda2wcHBuvLKK3XTTTfp8ssvV1BQkIeqBADAy/budc70LVmSN695c+mmm5ypXTvv1QbAqwiDqFSOHz+uTz75RG+++aYWL158zvZ9+/bVzTffrJEjR6o2l7sAAHzB6dNScrIUHe18DgmR0tKcoR+uuUYaPVrq0yfvXkEAPoswiErh559/1ptvvqnp06fr8OHDZ23bqlUrjR49WjfffLOaN2/uoQoBAPCytDTp7belt96StmyRtm1zhoLw85O++EJq2dJ5MigA5CAMosI6duyYPvroI73xxhtasWLFWdvWrFlT119/vW6//Xb17t2bB8EAAHxDdrY0Z4705pvS1187nyWpaVNp40YnDEpS587eqxFAhUUYRIWzbt06/ec//9F77713zrOAl1xyie644w5dc801qsFvOwEAviQjQ2rfXtq82fkcECCNHCndeac0YIDk7+/d+gBUeIRBVAiZmZn64osvNHnyZC1cuPCsbUNDQ3XrrbfqjjvuUOvWrT1UIQAAXpY7JER8vHPpZ7Vqzn2B/v7SXXc59wKGhnq7SgCVCGEQXpWWlqYpU6bojTfeUFpaWrHtjDEaOHCgxowZo2HDhikwMNCDVQIA4EUHDkjvvCP95z/O8BBz50oDBzrLpk51xgPkYTAASoEwCK9YunSpXn31VX3yySfKysoqtl3Dhg11xx136K677lJkZKQHKwQAwMtWr5b+9S/p/felEyeceU2bSmfeQlG3rndqA1AlEAbhMadOndKMGTP0z3/+U8uXLz9r2/j4eN1zzz0aMWIEYwICADziH0v+oRNZJ/RA7wdUPbC6JGlWyiyt3r1aw9oMU3QjZ6iG3/b9phnrZqhtSFtd2/FaSVL26Wy9kPCC/IyfHr3kUdc2P0j+QJsObNINnW5Qy3otJUkrdqzQ3I1zFRMWo0GtBkmSDp48qH8t/5dqV6utP/X8kzRqlPTxx5rSXdoTK91Vs49CxzwgXXGFvt++SIt/fFZ9I/oqrpkzWHzq4VS9s+odNanVRLd1va1iHlOOKUlTtOfYHt3V7S6F1nQua/1+8/davH0xx8QxcUzneUxlZq2tdFP37t0tKo/09HT7wgsv2LCwMCup2KlmzZr23nvvtWvWrPF2yQAqCEmJtgL0O5Vlon8sudOnT9t5G+bZvcf2uuaF/D3EaoLyzbv1i1utJshOXTnVNe/TdZ9aTZAd8dEI17yMrAyrCbKBTwfm28/AaQOtJsh+s/4b17zXlr1mNUH2vq/vc83bsuUXqwmyzSY1c2Y89ZS1tWrZqL86Nf2y6xdX2/9b8H9WE2Sf+/E517wl25ZYTZDt9d9e+fbv1WM6sCX/MeWImhzFMXFMHFM5HFN59JH+EyZMKL9k6SFTpkyZMGbMGG+XgXPYsGGDnnzySd1yyy365ptvdOTIkSLbtWnTRk8++aTee+89XX311WrYsKGHKwVQUT311FNpEyZMmOLtOioL+seS2354u7pP6a6pP0/Vwxc9LGOMsk5nqXd4b/WL6Kcgf+eqlNP2tFrXa62+EX0VVivMNa/uBXUVHxGvqNAoSZKV1Wl7Wn2a91G/yH6u/WSfzlanhp3UL6KfQqqHuNZvVLOR4pvHq+1Bf+mJJ6T771PAJfHqc9GNurjZxVLXrtKDDyqrbh11a9xN/SL7qWZQTWebNlvNazdX34i+iqgT4dp/jcAaim8er5iwGNf+vXJM9du62gb4BahPsz7OMZ1RE8fEMXFMZT+m8ugjjRMqK5eYmBibmJjo7TJQjGXLlunFF1/UZ599prP9+xo8eLDGjRunAQMGyI8b3wEUwRiTZK2NOXdLSPSP52P17tW69+t71bBGQ312/Wee3bm1UkKC9PLL0syZzmdJuu0254EwAFAC5dFHcs8gysXp06c1e/ZsTZw4UYsWLSq2XfXq1XXrrbdq7Nixatu2bbHtAABwp86hnZVwe4Lnd/zDD9Jf/iItW+Z8DgqSbrpJ+vOfpagoz9cDwKcRBlEmp06d0scff6y///3vWrNmTbHtwsLCNHbsWI0ZM0Z1efIZAMBXHTjgBMF69aR775Xuu09q1MjbVQHwUYRBlMqJEyc0depUvfjii9q6dWux7aKjo/XQQw/puuuu46mgAIAKwVqr/Sf2u+7PcZtDh5yxAffvlyZOdOZdeaX01lvS9ddLNWq4d/8AcA6EQZyXo0eP6vXXX9dLL72k3bt3F9tuwIABevjhh9W/f38ZYzxYIQAAZ7f10FZFvhKp2LBYLb/r7EMdlcqePdKkSdLkyc6YgAEBzmWgYWGSv790++3lv08AKAXCIErk0KFDeu211zRp0iTt37+/yDZ+fn667rrr9Mgjj6hr164erhAAgJLZdGCTLgi4QPWr1y/fDaemSi+9JE2ZkjdI/KWXOvcINm5cvvsCgHJAGMRZHThwQK+88or++c9/6tChQ0W2qVatmm677TY99NBDatmypYcrBADg/FwaeakO/99hHTx5sPw2unu31KqVlJHhfB42THrsMalnz/LbBwCUM8IginTw4EFNmjRJ//znP3X48OEi29SoUUP33HOPHnjgATXmN54AgEokwC+g7GcGU1OlJk0kY6TQUOmqq5z3jz4qde5cPoUCgBsRBpHPoUOH9Morr+jll18u9kxgnTp1NHbsWI0dO1YhIW6++R4AgIpm82bp2Weld9+V5s+X+uUMIP3BB849gQBQSRAGIUk6duyYXnvtNU2cOFEHDhwosk29evX0wAMP6P7771ft2rU9XCEAAGW3cf9GDZg2QINaDdLkKyaf38pbt0rPPSe9/baUleUEv6SkvDBIEARQyRAGfVxGRobeeOMNPf/888U+HTQkJEQPPvig7r//ftWqVcvDFQIAUH4SdyZq88HN2nZoW8lXSktzQuCUKdKpU5Kfn3TLLdLjjzv3CQJAJUUY9FFZWVmaNm2annzySW3fvr3INnXr1tVDDz2kP/3pT4RAAECVMLLDSK1usFrZNrvkK732mvTvfzv3A954o/TEE1Lbtu4rEgA8hDDoY6y1mjlzph599FH9+uuvRbapXbu2HnzwQY0bN04XXnihhysEAMB9AvwCFBUadfZGR49KGzdK0dHO54cekrZtk/7v/6SOHd1fJAB4CGHQhyQkJOiRRx7RTz/9VOTyGjVqaNy4cXrooYdUt25dD1cHAICXZWY6l4I+84wUHCylpDiv9epJ77/v7eoAoNz5uXsHxphBxpgUY8wGY8xfilhezRjzcc7yZcaYCHfX5Gt+++03DR8+XJdcckmRQTAoKEjjxo3Txo0b9dxzzxEEAcAD6B89b9OBTbp+xvWakjQl/4LTp6WPP5bat5f+9Cdpzx4pLMx5BYAqzK1nBo0x/pL+LWmApFRJK4wxs6y1685odoekA9baVsaYUZL+Lun6s213165dmjhxorvKrvSys7O1e/dubd++XampqUpKSlJ2duF7I/z8/HTLLbdowoQJat68uRcqBQDf5K7+EWe3NHWp/rf2fzqZdVJjuo9xZi5cKD38sLRihfO5fXvp+efzxgwEgCrMWGvdt3FjekuaYK29POfz/0mStfaFM9rMzWnzkzEmQNIuSQ3sWQozxrivaB9x5ZVX6vnnn1dH7n0AUIEZY5KstTHerqO8uat/bNGxhb17yt0a1WmUmtVuJklavmO5ftjyg2LDYtUv0hkCIf14ut76+S3Vu6Ce7ux2p2v9N5Pe1IGTB3RntztV74J6kqTvNn+nxJ2J6hfRT7FNYiVJ2w5t00drPlLTC5vqhqgbXOtP+mmSTp0+pT/3+rOC/IMkSbNSZum3fb9pWJthat+gvSRp3d51+ur3r9S+fnsNaztMkpSRlaFXlr2iIP8g/bnXn13b/DD5Q20/vL1cjun4qeOav3G+GtVspMGtBzvDQ7RtK23aJDVuLD39tHTrrVIAd9EAqPjKo49092WiTSSd+ajK1Jx5Rbax1mZJOiSJkczdpGfPnvrxxx81c+ZMgiAAeI9b+se9x/dq/ILx2nxgs2vej1t/1PgF4/X1+q8LtXtpyUv51p+4ZKLGLxiv9OPprnlf/f6Vxi8Yr0XbFrnmbdy/UeMXjNeUlfkvt3z8+8c1fsF4ZWZnuuZ9kPyBxi8Yr192/+Ka93Pazxq/YLw+WvuRa15GdobGLxivJ75/It82X096vdyOKfzCcN3WdJgGN+jtLAwIkF56yQmB69dLd95JEATgUyrNN54xZoykMd6uo7Jq06aNnnvuOY0cOVKGy14AoMo4s3+sF15PD1/0sJrWbupaHhsWq4cvelh9mvdxzat3gdOuQfUG+bZ1Z9c7lX4iXXUvyLt3vF9EPwX4BSgmLO+Xz01rN9XDFz2slnVb5lv/z73+rMzsTAX6BbrmDWszTM1qN1O7+u1c89o3aK+HL3pYXRt1dc0L8g/Swxc9rGr+1fJtc1THUerZpGfZj8m/hvTyy07wu+02adIkp8GIEc4EAD6oUl4m2qhRI3vLLbe4re6qICQkRE2bNlV4eLiaNm2qiIgIQiCASofLRM+vf4yJibGJiYnuLb6ysVb6+mvpwQel33935g0dKs2c6QweDwCVVHn0ke4+M7hCUmtjTKSkHZJGSbqxQJtZkkZL+knSNZK+O1tHJ0nh4eE8QAYAUJm5pX9EAb/+Kv2//yfNnet8btvWOTs4ZIh36wKACsKtYdBam2WMuV/SXEn+kqZaa9caY56WlGitnSXpLUnTjDEbJO2X0yECAFBl0T96wMaNUufOzkNiateWJkyQ7rtPCgw856oA4Cvcfs+gtXa2pNkF5j1xxvuTkq51dx0AAFQk9I9u1rKlcy9g3brSs89KDRqcex0A8DFcLA8AACq/5GSpb9+88QIl6cMPpTfeIAgCQDEIgwAAoPI6fFh64AGpa1dnAPkJE/KW+ft7rSwAqAwIgwAAoPKxVvrkE6l9e2eYCGul+++Xpk/3dmUAUGlUmnEGAQAAJEmpqdIf/yjNzrnlsmdPafJkqVs379YFAJUMZwYBAEDl4u8vJSQ4Twl9/XVpyRKCIACUAmcGAQBAxffLL1KnTk4QbNxYmjFDioqSGjXydmUAUGlxZhAAAFRcx445D4jp1k169dW8+QMGEAQBoIw4MwgAACqmBQuku+6StmyR/PykAwe8XREAVCmEQQAAULEcPCg99JD01lvO5y5dpP/+V+re3bt1AUAVQxgEAAAVx4YNUny8tHOnFBQkPfmk9PDDUmCgtysDgCqHMAgAACqOyEipeXOpWTPnzGCHDt6uCACqLMIgAADwrm++cZ4M2qSJ87TQWbOkunWd9wAAt+FpogAAwDuOHHEeEDN4sDOIvLXO/Pr1CYIA4AGcGQQAAJ63aJF0yy3Ok0KDgpz7BK2VjPF2ZQDgMwiDAADAczIypMcfl156yQl/XbtK773nDCgPAPAowiAAAPCMzEypd2/p55+dcQMffVR64gnnzCAAwOMIgwAAwDOCgqRBg6TDh6Vp05xgCADwGh4gAwAA3GfXLmnZsrzPTz0lrVpFEASACoAwCAAA3GPOHCk6Who+XNq3z5kXGCjVrOndugAAkgiDAACgvGVkSA8+KA0ZIu3ZI3XsKGVlebsqAEAB3DMIAADKz/r10qhR0sqVUkCA9Oyz0sMPOw+MAQBUKIRBAABQPj77TBo9Wjp6VIqMlD78UOrZ09tVAQCKwa/pAABA+ahZ0wmC113nDB9BEASACo0zgwAAoPQOHZJq13beDxzoPDk0NlYyxrt1AQDOiTODAACgdP73PykiQvrhh7x5PXoQBAGgkiAMAgCA85OZKY0dK11/vXTwoPTpp96uCABQClwmCgAASm77dunaa53LQQMDpUmTpHvv9XZVAIBSIAwCAICS+e4752zgvn1Ss2bSJ584l4UCAColLhMFAADndvy49Ic/OEFwwAApKYkgCACVHGcGAQDAuVWvLr3/vvT999JTT0n+/t6uCABQRpwZBAAARdu4UXrnnbzPl10mPfssQRAAqgjODAIAgMLmzpVGjZIOH5aaN5f69fN2RQCAcsaZQQAAkMda6cUXpSFDnGEjhg6Vunf3dlUAADcgDAIAAMfJk9Lo0dIjj0inT0tPPil9/rl04YXergwA4AZcJgoAAKRdu6QRI6SlS52HxUybJl19tberAgC4EWEQAABImZnSpk3O+IGzZknR0d6uCADgZoRBAADghMA5c6TwcKlhQ29XAwDwAMIgAAC+yFrppZek7GzpL39x5nXr5t2aAAAeRRgEAMDXZGZK99wjTZ0q+fk59wa2aePtqgAAHuaWMGiMeVHSMEmZkjZKus1ae7CIdlskHZGULSnLWhvjjnoAAKgovN5HHjwojRwpffeddMEFzoNiCIIA4JPcNbTEfEmdrLWdJf0u6f/O0raftbYLQRAA4CO810du3SpdfLETBENDpYULnWAIAPBJbgmD1tp51tqsnI9LJYW7Yz8AAFQ2Xusjf/lF6tVLWrdO6tDBGUIiNtYjuwYAVEyeGHT+dklzillmJc0zxiQZY8acbSPGmDHGmERjTOLevXvLvUgAALygzH1kifvH+vUlf3/p0kulxYuliIiy1A0AqAJKfc+gMWaBpEZFLHrMWjszp81jkrIkTS9mM3HW2h3GmIaS5htjfrPW/lhUQ2vtFElTJCkmJsaWtm4AANzNk31kifvHJk2kH390ho4ICjq/AwIAVEmlDoPW2v5nW26MuVXSUEmXWWuL7JystTtyXvcYYz6X1ENSkWEQAIDKokL0kdZKzzwjnT4tTZjgzGvRosSrAwCqPrdcJmqMGSTpEUlXWmuPF9OmhjGmVu57SQMlrXFHPQAAVBQe6SOzsqQ//lF68kknEP76azlUDgCoatx1z+C/JNWSc1nLKmPM65JkjAkzxszOaRMqKcEY84uk5ZK+ttZ+46Z6AACoKNzbR548KV17rfTmm1JwsPTpp1L79m44DABAZeeWcQatta2Kmb9T0pCc95skRbtj/wAAVFRu7SOzs6VBg5whI+rUkb78UoqLK1O9AICqyy1hEAAAeEFKinTihBQWJn3zjRQV5e2KAAAVGGEQAICqIjtbatNGmjuXoSMAAOdEGAQAoKpo00b67jupQQNvVwIAqAQ8Meg8AADwhGrVCIIAgBIjDAIAAACADyIMAgAAAIAPIgwCAAAAgA8iDAIAAACADyIMAgAAAIAPIgwCAAAAgA8iDAIAAACADyIMAgAAAIAPIgwCAAAAgA8iDAIAAACADyIMAgAAAIAPIgwCAAAAgA8iDAIAAACADyIMAgAAAIAPIgwCAAAAgA8iDAIAAACADyIMAgAAAIAPIgwCAAAAgA8iDAIAAACADyIMAgAAAIAPIgwCAAAAgA8iDAIAAACADyIMAgAAAIAPIgwCAAAAgA8iDAIAAACADyIMAgAAAIAPIgwCAAAAgA8iDAIAAACADyIMAgAAAIAPIgwCAAAAgA8iDAIAAACADyIMAgAAAIAPIgwCAAAAgA8iDAIAAACADyIMAgAAAIAPclsYNMZMMMbsMMasypmGFNNukDEmxRizwRjzF3fVAwBARUD/CACoKALcvP1J1tqXiltojPGX9G9JAySlSlphjJllrV3n5roAAPAm+kcAgNd5+zLRHpI2WGs3WWszJX0k6Sov1wQAgLfRPwIA3M7dYfB+Y8xqY8xUY0zdIpY3kbT9jM+pOfMKMcaMMcYkGmMS9+7d645aAQDwFPpHAIDXlSkMGmMWGGPWFDFdJek/klpK6iIpTdI/yrIva+0Ua22MtTamQYMGZdkUAABuRf8IAKgMynTPoLW2f0naGWPelPRVEYt2SGp6xufwnHkAAFRa9I8AgMrAnU8TbXzGxxGS1hTRbIWk1saYSGNMkKRRkma5qyYAALyN/hEAUFG482miE40xXSRZSVsk/VGSjDFhkv5rrR1irc0yxtwvaa4kf0lTrbVr3VgTAADeRv8IAKgQ3BYGrbU3FzN/p6QhZ3yeLWn2/2/v/mNlKcs7gH+feoUmSARKyy9JBUpIlRTEW6IGjVWCSBpBohZjKlRSYtSmprEtDYkxTZqUWtukjbah1Ugbo1RaClVUoCUhbQoUCT8F5II0hSIgyI+GhBZ4+8fOJeth93C89+6ZmTufT7I5szPv7Pne2ffMc5+zc3ZXlQMAhkR9BGAo+v5oCQAAAHqgGQQAAJggzSAAAMAEaQYBAAAmSDMIAAAwQZpBAACACdIMAgAATJBmEAAAYII0gwAAABOkGQQAAJggzSAAAMAEaQYBAAAmSDMIAAAwQZpBAACACdIMAgAATJBmEAAAYII0gwAAABOkGQQAAJggzSAAAMAEaQYBAAAmSDMIAAAwQZpBAACACdIMAgAATJBmEAAAYII0gwAAABOkGQQAAJggzSAAAMAEaQYBAAAmSDMIAAAwQZpBAACACdIMAgAATJBmEAAAYII0gwAAABOkGQQAAJggzSAAAMAEaQYBAAAmSDMIAAAwQZpBAACACdqyigetqouSHNXd3SfJ4621YxeMuy/JU0mewWonXgAAC61JREFUS/Jsa23rKvIAwFCokQAMxUqawdbar2xfrqrPJHlineG/1Fr7wSpyAMDQqJEADMVKmsHtqqqSvC/J21b5fQBgbNRIAPq26r8ZfHOSh1prdy/Z3pJcUVXfrqpz1nugqjqnqm6oqhseeeSRXR4UADbZLqmR6iMAO2qHXxmsqquSHLhg03mttUu75fcn+fI6D3NCa+2BqvqZJFdW1Z2ttWsWDWytXZDkgiTZunVr29HcALBqm1kj1UcAdtQON4OttRPX215VW5KcnuT16zzGA93Xh6vqkiTHJ1nYDALAWKiRAIzBKi8TPTHJna21+xdtrKq9qmrv7ctJTkpy2wrzAMBQqJEA9G6VzeAZWXP5S1UdXFWXd3cPSPKvVXVzkuuTfL219s0V5gGAoVAjAejdyt5NtLV21oJ1/53klG753iTHrOr7A8BQqZEADMGq300UAACAAdIMAgAATJBmEAAAYII0gwAAABOkGQQAAJggzSAAAMAEaQYBAAAmSDMIAAAwQZpBAACACdIMAgAATJBmEAAAYII0gwAAABOkGQQAAJggzSAAAMAEaQYBAAAmSDMIAAAwQZpBAACACdIMAgAATJBmEAAAYII0gwAAABOkGQQAAJggzSAAAMAEaQYBAAAmSDMIAAAwQZpBAACACdIMAgAATJBmEAAAYII0gwAAABOkGQQAAJggzSAAAMAEaQYBAAAmSDMIAAAwQZpBAACACdIMAgAATJBmEAAAYII0gwAAABOkGQQAAJggzSAAAMAEaQYBAAAmaKeawap6b1XdXlXPV9XWNdt+r6q2VdVdVfWOJfsfVlXXdeMuqqo9diYPAAyFGgnA0O3sK4O3JTk9yTXzK6vqNUnOSPLaJCcn+VxVvWzB/ucn+dPW2s8l+WGSs3cyDwAMhRoJwKDtVDPYWrujtXbXgk2nJvlKa+2Z1tr3kmxLcvz8gKqqJG9LcnG36sIkp+1MHgAYCjUSgKHbsqLHPSTJtXP37+/WzfupJI+31p5dZ8wLquqcJOd0d5+pqtt2UdbNtn+SH/QdYieMOf+Ysyfjzj/m7In8fTqq7wArsEtr5G5UH5Nxz9UxZ0/GnX/M2RP5+zTm7MkuqJEv2QxW1VVJDlyw6bzW2qU7G2CjWmsXJLmgy3RDa23rS+wySGPOnow7/5izJ+POP+bsifx9qqob+s6wniHUyN2lPibjzj/m7Mm48485eyJ/n8acPdk1NfIlm8HW2ok78LgPJDl07v6runXzHk2yT1Vt6X7zuWgMAAyWGgnAmK3qoyUuS3JGVe1ZVYclOTLJ9fMDWmstydVJ3tOtOjPJpr3SCAA9USMBGISd/WiJd1fV/UnemOTrVfWtJGmt3Z7k75J8J8k3k3y0tfZct8/lVXVw9xC/m+S3qmpbZn8f8fkNfusLdiZ3z8acPRl3/jFnT8adf8zZE/n7NNrsPdXI0R6vzpjzjzl7Mu78Y86eyN+nMWdPdkH+mv3yEQAAgClZ1WWiAAAADJhmEAAAYIIG2wxW1clVdVdVbauqcxds37OqLuq2X1dVr978lItV1aFVdXVVfaeqbq+q31ww5q1V9URV3dTdPtlH1mWq6r6qurXL9qK3ra2ZP+uO/y1VdVwfOdeqqqPmjulNVfVkVX18zZhBHfuq+kJVPTz/2WBVtV9VXVlVd3df912y75ndmLur6szNS/3C91+U/dNVdWc3Ly6pqn2W7LvuHNsMS/J/qqoemJsfpyzZd91z1GZYkv+iuez3VdVNS/bt9fgvO0+OZe73TY3sz1jrY6JGbl7qF76/GtlTjVQff4x531ob3C3Jy5Lck+TwJHskuTnJa9aM+UiSv+yWz0hyUd+557IdlOS4bnnvJN9dkP+tSb7Wd9Z1/g33Jdl/ne2nJPlGkkryhiTX9Z15yTz6fpKfHfKxT/KWJMcluW1u3R8lObdbPjfJ+Qv22y/Jvd3XfbvlfQeQ/aQkW7rl8xdl38gc6zH/p5J8YgNza91zVF/512z/TJJPDvH4LztPjmXu93lTI3vPP/r6ODeP1MjNz65G9pR9zXb1sbsN9ZXB45Nsa63d21r73yRfSXLqmjGnJrmwW744ydurqjYx41KttQdbazd2y08luSPJIf2m2uVOTfI3bebazD4P66C+Q63x9iT3tNb+s+8g62mtXZPksTWr5+f3hUlOW7DrO5Jc2Vp7rLX2wyRXJjl5ZUEXWJS9tXZFm30uWpJcm9nnow3SkmO/ERs5R63cevm78+H7knx5U0Nt0DrnyVHM/Z6pkcM2hvqYqJErp0b2VyPVx43P+6E2g4ck+a+5+/fnxYXihTHdD9UTmb319qB0l+a8Lsl1Cza/sapurqpvVNVrNzXYS2tJrqiqb1fVOQu2b+Q56tsZWf6DPuRjnyQHtNYe7Ja/n+SABWPG8Bx8KLPfkC/yUnOsTx/rLuH5wpLLMMZw7N+c5KHW2t1Ltg/m+K85T+4uc3+V1Mh+7Q71MVEjh0CN7If6OGeozeBuoapekeTvk3y8tfbkms03ZnZpxjFJ/jzJP252vpdwQmvtuCTvTPLRqnpL34F+HFW1R5J3Jfnqgs1DP/Y/os1e9x/dZ8BU1XlJnk3ypSVDhjrH/iLJEUmOTfJgZpeSjNH7s/5vPQdx/Nc7T4517rMxI66Rg/jZ2RlqZP/UyF6pj3OG2gw+kOTQufuv6tYtHFNVW5K8Msmjm5JuA6rq5Zk9gV9qrf3D2u2ttSdba//TLV+e5OVVtf8mx1yqtfZA9/XhJJdk9pL/vI08R316Z5IbW2sPrd0w9GPfeWj7ZUXd14cXjBnsc1BVZyX55SQf6E5YL7KBOdaL1tpDrbXnWmvPJ/mrLM412GOfvHBOPD3JRcvGDOH4LzlPjnrubxI1ske7QX1M1MheqZH9UR9fbKjN4H8kObKqDut+e3VGksvWjLksyfZ3yHlPkn9Z9gO12bprkT+f5I7W2p8sGXPg9r/fqKrjM3suBlGoq2qvqtp7+3Jmf+x825phlyX5YM28IckTcy9dD8HS3/oM+djPmZ/fZya5dMGYbyU5qar27S7TOKlb16uqOjnJ7yR5V2vt6SVjNjLHerHmb3vencW5NnKO6tOJSe5srd2/aOMQjv8658nRzv1NpEb2ZDepj4ka2Rs1snfq41qtx3cpWu+W2btxfTezdyM6r1v3+5n98CTJT2Z2ecO2JNcnObzvzHPZT8jspdtbktzU3U5J8uEkH+7GfCzJ7Zm9w9K1Sd7Ud+65/Id3uW7uMm4//vP5K8lnu+fn1iRb+849l3+vzArXK+fWDfbYZ1aQH0zyf5ld2312Zn/b889J7k5yVZL9urFbk/z13L4f6n4GtiX5tYFk35bZ9erb5/72dzQ8OMnl682xgeT/225O35LZifegtfm7+y86Rw0hf7f+i9vn+9zYQR3/dc6To5j7fd8Wzb+okZuRfdT1scunRvabXY3sKXu3/otRH3/kVt1OAAAATMhQLxMFAABghTSDAAAAE6QZBAAAmCDNIAAAwARpBgEAACZIMwgAwKBU1T5V9ZFu+eCqurjvTLA78tESAAAMSlW9OsnXWmtH9xwFdmtb+g4AAABr/GGSI6rqpsw+ZPvnW2tHV9VZSU5LsleSI5P8cZI9kvxqkmeSnNJae6yqjkjy2SQ/neTpJL/eWrtz8/8ZMGwuEwUAYGjOTXJPa+3YJL+9ZtvRSU5P8otJ/iDJ06211yX59yQf7MZckOQ3WmuvT/KJJJ/blNQwMl4ZBABgTK5urT2V5KmqeiLJP3Xrb03yC1X1iiRvSvLVqtq+z56bHxOGTzMIAMCYPDO3/Pzc/ecz+7/tTyR5vHtVEViHy0QBABiap5LsvSM7ttaeTPK9qnpvktTMMbsyHOwuNIMAAAxKa+3RJP9WVbcl+fQOPMQHkpxdVTcnuT3JqbsyH+wufLQEAADABHllEAAAYII0gwAAABOkGQQAAJggzSAAAMAEaQYBAAAmSDMIAAAwQZpBAACACfp/inI7NUnkk4wAAAAASUVORK5CYII=\n",
                "text/plain": "<Figure size 1080x504 with 2 Axes>"
              }
            ],
            "_view_module": "@jupyter-widgets/output",
            "_model_module_version": "1.0.0",
            "_view_count": null,
            "_view_module_version": "1.0.0",
            "layout": "IPY_MODEL_7e380388276b4e64a19b1b7c9b702355",
            "_model_module": "@jupyter-widgets/output"
          }
        },
        "08f5913e27f348859ee163d19479c5ce": {
          "model_module": "@jupyter-widgets/controls",
          "model_name": "SliderStyleModel",
          "state": {
            "_view_name": "StyleView",
            "handle_color": null,
            "_model_name": "SliderStyleModel",
            "description_width": "",
            "_view_module": "@jupyter-widgets/base",
            "_model_module_version": "1.5.0",
            "_view_count": null,
            "_view_module_version": "1.2.0",
            "_model_module": "@jupyter-widgets/controls"
          }
        },
        "aad4bc1e48ce48b9af01aca3411851f3": {
          "model_module": "@jupyter-widgets/base",
          "model_name": "LayoutModel",
          "state": {
            "_view_name": "LayoutView",
            "grid_template_rows": null,
            "right": null,
            "justify_content": null,
            "_view_module": "@jupyter-widgets/base",
            "overflow": null,
            "_model_module_version": "1.2.0",
            "_view_count": null,
            "flex_flow": null,
            "width": null,
            "min_width": null,
            "border": null,
            "align_items": null,
            "bottom": null,
            "_model_module": "@jupyter-widgets/base",
            "top": null,
            "grid_column": null,
            "overflow_y": null,
            "overflow_x": null,
            "grid_auto_flow": null,
            "grid_area": null,
            "grid_template_columns": null,
            "flex": null,
            "_model_name": "LayoutModel",
            "justify_items": null,
            "grid_row": null,
            "max_height": null,
            "align_content": null,
            "visibility": null,
            "align_self": null,
            "height": null,
            "min_height": null,
            "padding": null,
            "grid_auto_rows": null,
            "grid_gap": null,
            "max_width": null,
            "order": null,
            "_view_module_version": "1.2.0",
            "grid_template_areas": null,
            "object_position": null,
            "object_fit": null,
            "grid_auto_columns": null,
            "margin": null,
            "display": null,
            "left": null
          }
        },
        "f545e9c326064fcc932c32d4729fdfce": {
          "model_module": "@jupyter-widgets/controls",
          "model_name": "SliderStyleModel",
          "state": {
            "_view_name": "StyleView",
            "handle_color": null,
            "_model_name": "SliderStyleModel",
            "description_width": "",
            "_view_module": "@jupyter-widgets/base",
            "_model_module_version": "1.5.0",
            "_view_count": null,
            "_view_module_version": "1.2.0",
            "_model_module": "@jupyter-widgets/controls"
          }
        },
        "c90e5a5dca1a432bbf5f24d2bf95e20e": {
          "model_module": "@jupyter-widgets/base",
          "model_name": "LayoutModel",
          "state": {
            "_view_name": "LayoutView",
            "grid_template_rows": null,
            "right": null,
            "justify_content": null,
            "_view_module": "@jupyter-widgets/base",
            "overflow": null,
            "_model_module_version": "1.2.0",
            "_view_count": null,
            "flex_flow": null,
            "width": null,
            "min_width": null,
            "border": null,
            "align_items": null,
            "bottom": null,
            "_model_module": "@jupyter-widgets/base",
            "top": null,
            "grid_column": null,
            "overflow_y": null,
            "overflow_x": null,
            "grid_auto_flow": null,
            "grid_area": null,
            "grid_template_columns": null,
            "flex": null,
            "_model_name": "LayoutModel",
            "justify_items": null,
            "grid_row": null,
            "max_height": null,
            "align_content": null,
            "visibility": null,
            "align_self": null,
            "height": null,
            "min_height": null,
            "padding": null,
            "grid_auto_rows": null,
            "grid_gap": null,
            "max_width": null,
            "order": null,
            "_view_module_version": "1.2.0",
            "grid_template_areas": null,
            "object_position": null,
            "object_fit": null,
            "grid_auto_columns": null,
            "margin": null,
            "display": null,
            "left": null
          }
        },
        "5345e40d427e46b8a9afa9fcdb059d36": {
          "model_module": "@jupyter-widgets/controls",
          "model_name": "SliderStyleModel",
          "state": {
            "_view_name": "StyleView",
            "handle_color": null,
            "_model_name": "SliderStyleModel",
            "description_width": "",
            "_view_module": "@jupyter-widgets/base",
            "_model_module_version": "1.5.0",
            "_view_count": null,
            "_view_module_version": "1.2.0",
            "_model_module": "@jupyter-widgets/controls"
          }
        },
        "b13d1d5360e44bfb9252c9c4b8898aec": {
          "model_module": "@jupyter-widgets/base",
          "model_name": "LayoutModel",
          "state": {
            "_view_name": "LayoutView",
            "grid_template_rows": null,
            "right": null,
            "justify_content": null,
            "_view_module": "@jupyter-widgets/base",
            "overflow": null,
            "_model_module_version": "1.2.0",
            "_view_count": null,
            "flex_flow": null,
            "width": null,
            "min_width": null,
            "border": null,
            "align_items": null,
            "bottom": null,
            "_model_module": "@jupyter-widgets/base",
            "top": null,
            "grid_column": null,
            "overflow_y": null,
            "overflow_x": null,
            "grid_auto_flow": null,
            "grid_area": null,
            "grid_template_columns": null,
            "flex": null,
            "_model_name": "LayoutModel",
            "justify_items": null,
            "grid_row": null,
            "max_height": null,
            "align_content": null,
            "visibility": null,
            "align_self": null,
            "height": null,
            "min_height": null,
            "padding": null,
            "grid_auto_rows": null,
            "grid_gap": null,
            "max_width": null,
            "order": null,
            "_view_module_version": "1.2.0",
            "grid_template_areas": null,
            "object_position": null,
            "object_fit": null,
            "grid_auto_columns": null,
            "margin": null,
            "display": null,
            "left": null
          }
        },
        "7e380388276b4e64a19b1b7c9b702355": {
          "model_module": "@jupyter-widgets/base",
          "model_name": "LayoutModel",
          "state": {
            "_view_name": "LayoutView",
            "grid_template_rows": null,
            "right": null,
            "justify_content": null,
            "_view_module": "@jupyter-widgets/base",
            "overflow": null,
            "_model_module_version": "1.2.0",
            "_view_count": null,
            "flex_flow": null,
            "width": null,
            "min_width": null,
            "border": null,
            "align_items": null,
            "bottom": null,
            "_model_module": "@jupyter-widgets/base",
            "top": null,
            "grid_column": null,
            "overflow_y": null,
            "overflow_x": null,
            "grid_auto_flow": null,
            "grid_area": null,
            "grid_template_columns": null,
            "flex": null,
            "_model_name": "LayoutModel",
            "justify_items": null,
            "grid_row": null,
            "max_height": null,
            "align_content": null,
            "visibility": null,
            "align_self": null,
            "height": null,
            "min_height": null,
            "padding": null,
            "grid_auto_rows": null,
            "grid_gap": null,
            "max_width": null,
            "order": null,
            "_view_module_version": "1.2.0",
            "grid_template_areas": null,
            "object_position": null,
            "object_fit": null,
            "grid_auto_columns": null,
            "margin": null,
            "display": null,
            "left": null
          }
        }
      }
    }
  },
  "cells": [
    {
      "cell_type": "markdown",
      "metadata": {
        "id": "view-in-github",
        "colab_type": "text"
      },
      "source": [
        "<a href=\"https://colab.research.google.com/github/sonmanwoo/EDRC_DO_ML_Project/blob/master/FOPDT_Widget.ipynb\" target=\"_parent\"><img src=\"https://colab.research.google.com/assets/colab-badge.svg\" alt=\"Open In Colab\"/></a>"
      ]
    },
    {
      "cell_type": "code",
      "metadata": {
        "id": "Ozpxg9-Y-HCr"
      },
      "source": [
        "import ipywidgets as wg\r\n",
        "from IPython.display import display \r\n",
        "import numpy as np\r\n",
        "%matplotlib inline\r\n",
        "import matplotlib.pyplot as plt"
      ],
      "execution_count": 1,
      "outputs": []
    },
    {
      "cell_type": "code",
      "metadata": {
        "id": "38iXlpar-IML"
      },
      "source": [
        "def fopdtPlot(K,tau,theta):\r\n",
        "    n = 100 # time points to plot\r\n",
        "    t = np.linspace(0,20,100) # create time vector\r\n",
        "    # create 0 -> 1 step at t=theta\r\n",
        "    delay = np.empty_like(t)\r\n",
        "    for i in range(n):\r\n",
        "        if t[i] < theta:\r\n",
        "            delay[i] = 0.0\r\n",
        "        else:\r\n",
        "            delay[i] = 1.0\r\n",
        "    # calculate response to step input\r\n",
        "    x = K * (1.0-np.exp(-(t-theta)/tau))\r\n",
        "    y = x * delay\r\n",
        "    # plot response\r\n",
        "    plt.figure(1,figsize=(15,7))\r\n",
        "    plt.subplot(1,2,1)\r\n",
        "    plt.plot(t,y,'k-',linewidth=4,label=r'$y(t)=x(t-\\theta)*S(t-\\theta)$')\r\n",
        "    plt.legend(loc='best')\r\n",
        "    plt.ylim([-10,10])\r\n",
        "    plt.xlim([0,20])\r\n",
        "    plt.subplot(1,2,2)\r\n",
        "    plt.plot(t,x,'r--',linewidth=2,label=r'$x(t-\\theta)=K\\;(1-\\exp(-(t-\\theta)/\\tau))$')\r\n",
        "    plt.plot(t,delay,'g:',linewidth=2,label=r'$S(t-\\theta)$')\r\n",
        "    plt.xlabel('time')\r\n",
        "    plt.legend(loc='best')\r\n",
        "    plt.ylim([-10,10])\r\n",
        "    plt.xlim([0,20])"
      ],
      "execution_count": 2,
      "outputs": []
    },
    {
      "cell_type": "code",
      "metadata": {
        "colab": {
          "base_uri": "https://localhost:8080/",
          "height": 560,
          "referenced_widgets": [
            "f181aae7d9d545de8afe183d33ed98fe",
            "7053438984fa4d3cab454f465b27907e",
            "125c2731657a4908802c1903b4635c35",
            "0e2478bf6b444364867f079907a784b0",
            "d89c830c057440baae68e1def6de0724",
            "3c928d1eb53244c4b3d8de81042f0fd5",
            "08f5913e27f348859ee163d19479c5ce",
            "aad4bc1e48ce48b9af01aca3411851f3",
            "f545e9c326064fcc932c32d4729fdfce",
            "c90e5a5dca1a432bbf5f24d2bf95e20e",
            "5345e40d427e46b8a9afa9fcdb059d36",
            "b13d1d5360e44bfb9252c9c4b8898aec",
            "7e380388276b4e64a19b1b7c9b702355"
          ]
        },
        "id": "hIWZLUar-Ksk",
        "outputId": "c7b9db32-4967-4676-90af-f36a52b76cd7"
      },
      "source": [
        "K_slide = wg.FloatSlider(value=8.0,min=-10.0,max=10.0,step=0.1)\r\n",
        "tau_slide = wg.FloatSlider(value=5.0,min=0.1,max=10.0,step=0.1)\r\n",
        "theta_slide = wg.FloatSlider(value=4.0,min=0.1,max=15.0,step=0.1)\r\n",
        "wg.interact(fopdtPlot, K=K_slide, tau=tau_slide, theta=theta_slide)"
      ],
      "execution_count": 3,
      "outputs": [
        {
          "output_type": "display_data",
          "data": {
            "application/vnd.jupyter.widget-view+json": {
              "model_id": "f181aae7d9d545de8afe183d33ed98fe",
              "version_minor": 0,
              "version_major": 2
            },
            "text/plain": [
              "interactive(children=(FloatSlider(value=8.0, description='K', max=10.0, min=-10.0), FloatSlider(value=5.0, des…"
            ]
          },
          "metadata": {
            "tags": []
          }
        },
        {
          "output_type": "execute_result",
          "data": {
            "text/plain": [
              "<function __main__.fopdtPlot>"
            ]
          },
          "metadata": {
            "tags": []
          },
          "execution_count": 3
        }
      ]
    }
  ]
}